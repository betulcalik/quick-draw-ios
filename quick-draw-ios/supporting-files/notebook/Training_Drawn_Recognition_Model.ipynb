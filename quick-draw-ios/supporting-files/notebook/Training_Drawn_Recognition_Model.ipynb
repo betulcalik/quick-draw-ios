{
  "cells": [
    {
      "cell_type": "markdown",
      "metadata": {
        "id": "3nlcO5u-jBUG"
      },
      "source": [
        "**Practical Artificial Intelligence with Swift**"
      ]
    },
    {
      "cell_type": "code",
      "execution_count": null,
      "metadata": {
        "colab": {
          "base_uri": "https://localhost:8080/"
        },
        "id": "34wlXkImXEp3",
        "outputId": "c6da2cc0-1dfe-4b38-8c08-6974a159aaee"
      },
      "outputs": [
        {
          "name": "stdout",
          "output_type": "stream",
          "text": [
            "Requirement already satisfied: turicreate in /usr/local/lib/python3.7/dist-packages (6.4.1)\n",
            "Requirement already satisfied: pandas>=0.23.2 in /usr/local/lib/python3.7/dist-packages (from turicreate) (1.1.5)\n",
            "Requirement already satisfied: resampy==0.2.1 in /usr/local/lib/python3.7/dist-packages (from turicreate) (0.2.1)\n",
            "Requirement already satisfied: six>=1.10.0 in /usr/local/lib/python3.7/dist-packages (from turicreate) (1.15.0)\n",
            "Requirement already satisfied: coremltools==3.3 in /usr/local/lib/python3.7/dist-packages (from turicreate) (3.3)\n",
            "Requirement already satisfied: prettytable==0.7.2 in /usr/local/lib/python3.7/dist-packages (from turicreate) (0.7.2)\n",
            "Requirement already satisfied: scipy>=1.1.0 in /usr/local/lib/python3.7/dist-packages (from turicreate) (1.4.1)\n",
            "Requirement already satisfied: tensorflow<2.1.0,>=2.0.0 in /usr/local/lib/python3.7/dist-packages (from turicreate) (2.0.4)\n",
            "Requirement already satisfied: numba<0.51.0 in /usr/local/lib/python3.7/dist-packages (from turicreate) (0.50.1)\n",
            "Requirement already satisfied: numpy in /usr/local/lib/python3.7/dist-packages (from turicreate) (1.18.5)\n",
            "Requirement already satisfied: decorator>=4.0.9 in /usr/local/lib/python3.7/dist-packages (from turicreate) (4.4.2)\n",
            "Requirement already satisfied: requests>=2.9.1 in /usr/local/lib/python3.7/dist-packages (from turicreate) (2.23.0)\n",
            "Requirement already satisfied: pillow>=5.2.0 in /usr/local/lib/python3.7/dist-packages (from turicreate) (7.1.2)\n",
            "Requirement already satisfied: protobuf>=3.1.0 in /usr/local/lib/python3.7/dist-packages (from coremltools==3.3->turicreate) (3.17.3)\n",
            "Requirement already satisfied: setuptools in /usr/local/lib/python3.7/dist-packages (from numba<0.51.0->turicreate) (57.4.0)\n",
            "Requirement already satisfied: llvmlite<0.34,>=0.33.0.dev0 in /usr/local/lib/python3.7/dist-packages (from numba<0.51.0->turicreate) (0.33.0)\n",
            "Requirement already satisfied: python-dateutil>=2.7.3 in /usr/local/lib/python3.7/dist-packages (from pandas>=0.23.2->turicreate) (2.8.2)\n",
            "Requirement already satisfied: pytz>=2017.2 in /usr/local/lib/python3.7/dist-packages (from pandas>=0.23.2->turicreate) (2018.9)\n",
            "Requirement already satisfied: chardet<4,>=3.0.2 in /usr/local/lib/python3.7/dist-packages (from requests>=2.9.1->turicreate) (3.0.4)\n",
            "Requirement already satisfied: idna<3,>=2.5 in /usr/local/lib/python3.7/dist-packages (from requests>=2.9.1->turicreate) (2.10)\n",
            "Requirement already satisfied: urllib3!=1.25.0,!=1.25.1,<1.26,>=1.21.1 in /usr/local/lib/python3.7/dist-packages (from requests>=2.9.1->turicreate) (1.24.3)\n",
            "Requirement already satisfied: certifi>=2017.4.17 in /usr/local/lib/python3.7/dist-packages (from requests>=2.9.1->turicreate) (2021.10.8)\n",
            "Requirement already satisfied: google-pasta>=0.1.6 in /usr/local/lib/python3.7/dist-packages (from tensorflow<2.1.0,>=2.0.0->turicreate) (0.2.0)\n",
            "Requirement already satisfied: keras-preprocessing>=1.0.5 in /usr/local/lib/python3.7/dist-packages (from tensorflow<2.1.0,>=2.0.0->turicreate) (1.1.2)\n",
            "Requirement already satisfied: tensorboard<2.1.0,>=2.0.0 in /usr/local/lib/python3.7/dist-packages (from tensorflow<2.1.0,>=2.0.0->turicreate) (2.0.2)\n",
            "Requirement already satisfied: h5py<=2.10.0 in /usr/local/lib/python3.7/dist-packages (from tensorflow<2.1.0,>=2.0.0->turicreate) (2.10.0)\n",
            "Requirement already satisfied: wheel>=0.26 in /usr/local/lib/python3.7/dist-packages (from tensorflow<2.1.0,>=2.0.0->turicreate) (0.37.1)\n",
            "Requirement already satisfied: opt-einsum>=2.3.2 in /usr/local/lib/python3.7/dist-packages (from tensorflow<2.1.0,>=2.0.0->turicreate) (3.3.0)\n",
            "Requirement already satisfied: absl-py>=0.7.0 in /usr/local/lib/python3.7/dist-packages (from tensorflow<2.1.0,>=2.0.0->turicreate) (1.0.0)\n",
            "Requirement already satisfied: tensorflow-estimator<2.1.0,>=2.0.0 in /usr/local/lib/python3.7/dist-packages (from tensorflow<2.1.0,>=2.0.0->turicreate) (2.0.1)\n",
            "Requirement already satisfied: termcolor>=1.1.0 in /usr/local/lib/python3.7/dist-packages (from tensorflow<2.1.0,>=2.0.0->turicreate) (1.1.0)\n",
            "Requirement already satisfied: grpcio>=1.8.6 in /usr/local/lib/python3.7/dist-packages (from tensorflow<2.1.0,>=2.0.0->turicreate) (1.43.0)\n",
            "Requirement already satisfied: gast==0.2.2 in /usr/local/lib/python3.7/dist-packages (from tensorflow<2.1.0,>=2.0.0->turicreate) (0.2.2)\n",
            "Requirement already satisfied: astor>=0.6.0 in /usr/local/lib/python3.7/dist-packages (from tensorflow<2.1.0,>=2.0.0->turicreate) (0.8.1)\n",
            "Requirement already satisfied: wrapt>=1.11.1 in /usr/local/lib/python3.7/dist-packages (from tensorflow<2.1.0,>=2.0.0->turicreate) (1.13.3)\n",
            "Requirement already satisfied: keras-applications>=1.0.8 in /usr/local/lib/python3.7/dist-packages (from tensorflow<2.1.0,>=2.0.0->turicreate) (1.0.8)\n",
            "Requirement already satisfied: werkzeug>=0.11.15 in /usr/local/lib/python3.7/dist-packages (from tensorboard<2.1.0,>=2.0.0->tensorflow<2.1.0,>=2.0.0->turicreate) (1.0.1)\n",
            "Requirement already satisfied: google-auth<2,>=1.6.3 in /usr/local/lib/python3.7/dist-packages (from tensorboard<2.1.0,>=2.0.0->tensorflow<2.1.0,>=2.0.0->turicreate) (1.35.0)\n",
            "Requirement already satisfied: markdown>=2.6.8 in /usr/local/lib/python3.7/dist-packages (from tensorboard<2.1.0,>=2.0.0->tensorflow<2.1.0,>=2.0.0->turicreate) (3.3.6)\n",
            "Requirement already satisfied: google-auth-oauthlib<0.5,>=0.4.1 in /usr/local/lib/python3.7/dist-packages (from tensorboard<2.1.0,>=2.0.0->tensorflow<2.1.0,>=2.0.0->turicreate) (0.4.6)\n",
            "Requirement already satisfied: cachetools<5.0,>=2.0.0 in /usr/local/lib/python3.7/dist-packages (from google-auth<2,>=1.6.3->tensorboard<2.1.0,>=2.0.0->tensorflow<2.1.0,>=2.0.0->turicreate) (4.2.4)\n",
            "Requirement already satisfied: rsa<5,>=3.1.4 in /usr/local/lib/python3.7/dist-packages (from google-auth<2,>=1.6.3->tensorboard<2.1.0,>=2.0.0->tensorflow<2.1.0,>=2.0.0->turicreate) (4.8)\n",
            "Requirement already satisfied: pyasn1-modules>=0.2.1 in /usr/local/lib/python3.7/dist-packages (from google-auth<2,>=1.6.3->tensorboard<2.1.0,>=2.0.0->tensorflow<2.1.0,>=2.0.0->turicreate) (0.2.8)\n",
            "Requirement already satisfied: requests-oauthlib>=0.7.0 in /usr/local/lib/python3.7/dist-packages (from google-auth-oauthlib<0.5,>=0.4.1->tensorboard<2.1.0,>=2.0.0->tensorflow<2.1.0,>=2.0.0->turicreate) (1.3.0)\n",
            "Requirement already satisfied: importlib-metadata>=4.4 in /usr/local/lib/python3.7/dist-packages (from markdown>=2.6.8->tensorboard<2.1.0,>=2.0.0->tensorflow<2.1.0,>=2.0.0->turicreate) (4.10.1)\n",
            "Requirement already satisfied: typing-extensions>=3.6.4 in /usr/local/lib/python3.7/dist-packages (from importlib-metadata>=4.4->markdown>=2.6.8->tensorboard<2.1.0,>=2.0.0->tensorflow<2.1.0,>=2.0.0->turicreate) (3.10.0.2)\n",
            "Requirement already satisfied: zipp>=0.5 in /usr/local/lib/python3.7/dist-packages (from importlib-metadata>=4.4->markdown>=2.6.8->tensorboard<2.1.0,>=2.0.0->tensorflow<2.1.0,>=2.0.0->turicreate) (3.7.0)\n",
            "Requirement already satisfied: pyasn1<0.5.0,>=0.4.6 in /usr/local/lib/python3.7/dist-packages (from pyasn1-modules>=0.2.1->google-auth<2,>=1.6.3->tensorboard<2.1.0,>=2.0.0->tensorflow<2.1.0,>=2.0.0->turicreate) (0.4.8)\n",
            "Requirement already satisfied: oauthlib>=3.0.0 in /usr/local/lib/python3.7/dist-packages (from requests-oauthlib>=0.7.0->google-auth-oauthlib<0.5,>=0.4.1->tensorboard<2.1.0,>=2.0.0->tensorflow<2.1.0,>=2.0.0->turicreate) (3.1.1)\n"
          ]
        }
      ],
      "source": [
        "# Install TuriCreate\n",
        "!pip install turicreate"
      ]
    },
    {
      "cell_type": "code",
      "execution_count": null,
      "metadata": {
        "id": "uQKvw0pqYfp-"
      },
      "outputs": [],
      "source": [
        "# Import packages\n",
        "import os\n",
        "import json\n",
        "import requests\n",
        "import numpy as np\n",
        "import turicreate as tc"
      ]
    },
    {
      "cell_type": "code",
      "execution_count": null,
      "metadata": {
        "id": "mj9J0Ls_Y18J"
      },
      "outputs": [],
      "source": [
        "# The categories we want to be able to distinguish\n",
        "categories = [\n",
        "              \"apple\", \"banana\", \"bread\", \"broccoli\", \"cake\", \"carrot\", \"coffee cup\",\n",
        "              \"cookie\", \"donut\", \"grapes\", \"hot dog\", \"ice cream\", \"lollipop\", \"mushroom\",\n",
        "              \"peanut\", \"pear\", \"pineapple\", \"pizza\", \"potato\", \"sandwich\", \"steak\", \"strawberry\",\n",
        "              \"watermelon\"\n",
        "]"
      ]
    },
    {
      "cell_type": "code",
      "execution_count": null,
      "metadata": {
        "id": "ZTiZOoWnZOjL"
      },
      "outputs": [],
      "source": [
        "# Configure as required\n",
        "this_directory = os.path.join(os.getcwd())\n",
        "quickdraw_directory = this_directory + \"/quickdraw\"\n",
        "bitmap_directory = quickdraw_directory + \"/bitmap\"\n",
        "bitmap_sframe_path = quickdraw_directory + \"/bitmaps.sframe\"\n",
        "output_model_filename = this_directory + \"/DrawingModel\"\n",
        "training_samples = 10000"
      ]
    },
    {
      "cell_type": "code",
      "execution_count": null,
      "metadata": {
        "id": "-dMN2407ZyDL"
      },
      "outputs": [],
      "source": [
        "# Make some folders to put training data in\n",
        "def make_directory(path):\n",
        "  try:\n",
        "    os.makedirs(path)\n",
        "  except OSError:\n",
        "    if not os.path.isdir(path):\n",
        "      raise\n",
        "\n",
        "make_directory(quickdraw_directory)\n",
        "make_directory(bitmap_directory)"
      ]
    },
    {
      "cell_type": "code",
      "execution_count": null,
      "metadata": {
        "colab": {
          "base_uri": "https://localhost:8080/"
        },
        "id": "3zC_n51iaMZP",
        "outputId": "712c42a9-e0a2-4f9f-855b-82bd57959d59"
      },
      "outputs": [
        {
          "name": "stdout",
          "output_type": "stream",
          "text": [
            "Downloaded apple drawing (category 1/23)\n",
            "Downloaded banana drawing (category 2/23)\n",
            "Downloaded bread drawing (category 3/23)\n",
            "Downloaded broccoli drawing (category 4/23)\n",
            "Downloaded cake drawing (category 5/23)\n",
            "Downloaded carrot drawing (category 6/23)\n",
            "Downloaded coffee cup drawing (category 7/23)\n",
            "Downloaded cookie drawing (category 8/23)\n",
            "Downloaded donut drawing (category 9/23)\n",
            "Downloaded grapes drawing (category 10/23)\n",
            "Downloaded hot dog drawing (category 11/23)\n",
            "Downloaded ice cream drawing (category 12/23)\n",
            "Downloaded lollipop drawing (category 13/23)\n",
            "Downloaded mushroom drawing (category 14/23)\n",
            "Downloaded peanut drawing (category 15/23)\n",
            "Downloaded pear drawing (category 16/23)\n",
            "Downloaded pineapple drawing (category 17/23)\n",
            "Downloaded pizza drawing (category 18/23)\n",
            "Downloaded potato drawing (category 19/23)\n",
            "Downloaded sandwich drawing (category 20/23)\n",
            "Downloaded steak drawing (category 21/23)\n",
            "Downloaded strawberry drawing (category 22/23)\n",
            "Downloaded watermelon drawing (category 23/23)\n"
          ]
        }
      ],
      "source": [
        "# Fetch some data\n",
        "bitmap_url = (\n",
        "    \"https://storage.googleapis.com/quickdraw_dataset/full/numpy_bitmap\"\n",
        ")\n",
        "\n",
        "total_categories = len(categories)\n",
        "\n",
        "for index, category in enumerate(categories):\n",
        "  bitmap_filename = \"/\" + category + \".npy\"\n",
        "\n",
        "  with open(bitmap_directory + bitmap_filename, 'wb') as bitmap_file:\n",
        "    bitmap_response = requests.get(bitmap_url + bitmap_filename)\n",
        "    bitmap_file.write(bitmap_response.content)\n",
        "\n",
        "    print(\"Downloaded %s drawing (category %d/%d)\" % (category, index + 1, total_categories))\n",
        "\n",
        "  random_state = np.random.RandomState(100)"
      ]
    },
    {
      "cell_type": "code",
      "execution_count": null,
      "metadata": {
        "id": "_r0IyarfbsiC"
      },
      "outputs": [],
      "source": [
        "def get_bitmap_sframe():\n",
        "  labels, drawings = [], []\n",
        "  for category in categories:\n",
        "    data = np.load(\n",
        "        bitmap_directory + \"/\" + category + \".npy\",\n",
        "        allow_pickle=True\n",
        "    )\n",
        "    random_state.shuffle(data)\n",
        "    sampled_data = data[:training_samples]\n",
        "    transformed_data = sampled_data.reshape(\n",
        "        sampled_data.shape[0], 28, 28, 1\n",
        "    )\n",
        "\n",
        "    for pixel_data in transformed_data:\n",
        "      image = tc.Image(_image_data=np.invert(pixel_data).tobytes(),\n",
        "                       _width=pixel_data.shape[1],\n",
        "                       _height=pixel_data.shape[0],\n",
        "                       _channels=pixel_data.shape[2],\n",
        "                       _format_enum=2,\n",
        "                       _image_data_size=pixel_data.size)\n",
        "      drawings.append(image)\n",
        "      labels.append(category)\n",
        "    print(\"...%s bitmaps complete\" % category)\n",
        "  print(\"%d bitmaps with %d labels\" % (len(drawings), len(labels)))\n",
        "  return tc.SFrame({'drawing': drawings, 'label': labels})"
      ]
    },
    {
      "cell_type": "code",
      "execution_count": null,
      "metadata": {
        "colab": {
          "base_uri": "https://localhost:8080/",
          "height": 1000
        },
        "id": "AnP0lw9id8sC",
        "outputId": "3bf77311-7e5c-43a7-9cf2-38299a3ea78a"
      },
      "outputs": [
        {
          "name": "stdout",
          "output_type": "stream",
          "text": [
            "...apple bitmaps complete\n",
            "...banana bitmaps complete\n",
            "...bread bitmaps complete\n",
            "...broccoli bitmaps complete\n",
            "...cake bitmaps complete\n",
            "...carrot bitmaps complete\n",
            "...coffee cup bitmaps complete\n",
            "...cookie bitmaps complete\n",
            "...donut bitmaps complete\n",
            "...grapes bitmaps complete\n",
            "...hot dog bitmaps complete\n",
            "...ice cream bitmaps complete\n",
            "...lollipop bitmaps complete\n",
            "...mushroom bitmaps complete\n",
            "...peanut bitmaps complete\n",
            "...pear bitmaps complete\n",
            "...pineapple bitmaps complete\n",
            "...pizza bitmaps complete\n",
            "...potato bitmaps complete\n",
            "...sandwich bitmaps complete\n",
            "...steak bitmaps complete\n",
            "...strawberry bitmaps complete\n",
            "...watermelon bitmaps complete\n",
            "230000 bitmaps with 230000 labels\n"
          ]
        },
        {
          "name": "stderr",
          "output_type": "stream",
          "text": [
            "/usr/local/lib/python3.7/dist-packages/turicreate/visualization/_plot.py:461: UserWarning: Displaying only the first 100 rows.\n",
            "  warnings.warn(\"Displaying only the first {} rows.\".format(maximum_rows))\n"
          ]
        },
        {
          "data": {
            "text/html": [
              "<html lang=\"en\">                                                     <head>                                                               <style>                                                              .sframe {                                                            font-size: 12px;                                                   font-family: HelveticaNeue;                                        border: 1px solid silver;                                        }                                                                  .sframe thead th {                                                   background: #F7F7F7;                                               font-family: HelveticaNeue-Medium;                                 font-size: 14px;                                                   line-height: 16.8px;                                               padding-top: 16px;                                                 padding-bottom: 16px;                                              padding-left: 10px;                                                padding-right: 38px;                                               border-top: 1px solid #E9E9E9;                                     border-bottom: 1px solid #E9E9E9;                                  white-space: nowrap;                                               overflow: hidden;                                                  text-overflow:ellipsis;                                            text-align:center;                                                 font-weight:normal;                                              }                                                                  .sframe tbody th {                                                   background: #FFFFFF;                                               text-align:left;                                                   font-weight:normal;                                                border-right: 1px solid #E9E9E9;                                 }                                                                  .sframe td {                                                         background: #FFFFFF;                                               padding-left: 10px;                                                padding-right: 38px;                                               padding-top: 14px;                                                 padding-bottom: 14px;                                              border-bottom: 1px solid #E9E9E9;                                  max-height: 0px;                                                   transition: max-height 5s ease-out;                                vertical-align: middle;                                            font-family: HelveticaNeue;                                        font-size: 12px;                                                   line-height: 16.8px;                                               background: #FFFFFF;                                             }                                                                  .sframe tr {                                                         padding-left: 10px;                                                padding-right: 38px;                                               padding-top: 14px;                                                 padding-bottom: 14px;                                              border-bottom: 1px solid #E9E9E9;                                  max-height: 0px;                                                   transition: max-height 5s ease-out;                                vertical-align: middle;                                            font-family: HelveticaNeue;                                        font-size: 12px;                                                   line-height: 16.8px;                                               background: #FFFFFF;                                             }                                                                  .sframe tr:hover {                                                   background: silver;                                              },                                                               </style>                                                         </head>                                                            <body>                                                               <h1>  </h1>                                             <table border=\"1\" class=\"dataframe sframe\">\n",
              "  <thead>\n",
              "    <tr style=\"text-align: right;\">\n",
              "      <th></th>\n",
              "      <th>drawing</th>\n",
              "      <th>label</th>\n",
              "    </tr>\n",
              "  </thead>\n",
              "  <tbody>\n",
              "    <tr>\n",
              "      <th>0</th>\n",
              "      <td><img src=\"data:image/png;base64,iVBORw0KGgoAAAANSUhEUgAAABwAAAAcCAAAAABXZoBIAAABbklEQVR4nJ3STShEURQH8P+78ybfeQuafExoStmgpEgjFNnMZjZqUmiyo5SykIWFxsLCUjaUyVjZS1JEFKOmZkSTJLPwOcKE8fC3ePOmJ28snNW959e553Y6EpE5xB/2Ez8m2qaMd9l4mfQ541C340B1HQCAhvA6GB21AQCaLknqlaHo02PxOxaG6e5zgFtjPbupyvfpKgCAJReuW+2ReRySIHlWL7mWT69eQl7Z9pHqkFAGSJCvtba1VGoJK3r/kZw7ghwWm+kvTezppzD8BN+yhmgSccxRIJTsNpuODBUCQTSYoRUqBJ5RlBlz8GaGn7BAIB/3ZhhDGQTapVUzvEAFBCpbFzMj+sJHJnhuLQHIp7ze3zN4Ke/UBu9D4BfOSPsaql1i9uunHShuasikBy1Bo60XVMd05FegXAxeP2/sPJDksUc03jCNZGI82yoDsHc024UymSBJSumlPvcLpxqJnBSW1vQrWkr698Z/A9UdMZxIDq4EAAAAAElFTkSuQmCC\"/></td>\n",
              "      <td>apple</td>\n",
              "    </tr>\n",
              "    <tr>\n",
              "      <th>1</th>\n",
              "      <td><img src=\"data:image/png;base64,iVBORw0KGgoAAAANSUhEUgAAABwAAAAcCAAAAABXZoBIAAABaElEQVR4nH3Tv0tCURQH8K/y0tLUIZGEoKAIA3GooML+hAYJIgrcmmpqaWlpKmgQcg8h7McQhBFKBEVbg/1cBMF+DGb2Q8oysdBvg77Hfb3sbOd97j333PPe0xH1Q69O88EtMaUYD73oElIVlt2YeauHG2grsQ5WeqRj1sMsvCqjJPRWwAAqibMi4PBpul1DZL+z+nRBVfbj7vRoFDstnvWbXC43jYCC5VU3ALTCYkxW7zTZkJJxEYOBcGxKB4RqhZ6s/hpmLBMkuQt0K+fPSSUSZL6v6ZYkGRg+VzCENAnyEGFqYg8XpB5ohuOvt/UKgExhU7Ox3N9eICXAjmfNxmh82wToAatBixtOX218no7sr6rv5ll5QlfWoaIalxBXxheTxiqiJRr9wuBXsCxY0uV8EZDj1kfFIjbnCUW8Nvgz37n71GU8OgJvmirkvHILe/BLrqGTv/jkwafNYDYZbS6Lsk733+/wA8623gEADrWWAAAAAElFTkSuQmCC\"/></td>\n",
              "      <td>apple</td>\n",
              "    </tr>\n",
              "    <tr>\n",
              "      <th>2</th>\n",
              "      <td><img src=\"data:image/png;base64,iVBORw0KGgoAAAANSUhEUgAAABwAAAAcCAAAAABXZoBIAAABFklEQVR4nGP8z4AbMKFyTxShcP+jAG+GK0g8NJ0iTElfcBr7UfrUDJzG6rHovkLw0CQ5BJHk0O1kjxXF6ZU/n6Rx+/PNf2SNDCwoQXBZZd+uvwwsQcGMGK5dycDAIK6kpCTFMBUigND5P/97bao4GwMDw1/WT+j+rGOYD2V9YZiE5s81jLkw5kuGuaiS57hdfsMk7zMsRwmEF77Sq+DWf2XgRvHKxqcXBeFO+8bAhRIIfxnkEN6F60QLW6ySnAxIcfyGgQ9FUoPhGkLyuIgciqQO4xWE5BEbRhRJXqXDcLmH1+1gTKjHmxiN0mad+/X///9rTlwv0JLJl2YfCahygbmwoGJESvFPz9z6x8DAFykAE2DElx0ApND+0DOmO/8AAAAASUVORK5CYII=\"/></td>\n",
              "      <td>apple</td>\n",
              "    </tr>\n",
              "    <tr>\n",
              "      <th>3</th>\n",
              "      <td><img src=\"data:image/png;base64,iVBORw0KGgoAAAANSUhEUgAAABwAAAAcCAAAAABXZoBIAAABb0lEQVR4nH2TPUhCURiG33vUsqHEgiypRAOpoT8CQWhpSIiGfiCiJSEq2oIgqCFa2tyiMTBagibBcGgooSWoqUGhIQOHfixMs8K/3ga7ec17e6fz8pzv8H0f75EIbekr3MNpYs6s8FTKA6wqrFAWvp5tOBMKXwFD+RlDUQsGO3r1mvBkTNIXtOCbBUJZWRoldhBPJx2LACqeBcnQiKjpHBw2Qbfk04lGh2s9nCNJgowKp++JZGbPUYch79qSx4j6icsS9JqSP0Ofw10kyffQSmv3FwnmDb9LyUxH5OMRwiSYxg6r9WncJAWyqEW1jK4wIJCDpAIxEAUEWmxBNeh4TkNALITiKtCMFAQwL7bUSku7ta779zUhZpuXt/OqlCQfbei5+TPoLu5ZytDVqLWrUMEK7j5SDtghrpXswg0/KUfTheM26BqQvYvFbmORqCUwjnI0J8ttmPqn/B8kKcmJfwkUkfqCod1ub5JvSf99h294TAZbEWtSMQAAAABJRU5ErkJggg==\"/></td>\n",
              "      <td>apple</td>\n",
              "    </tr>\n",
              "    <tr>\n",
              "      <th>4</th>\n",
              "      <td><img src=\"data:image/png;base64,iVBORw0KGgoAAAANSUhEUgAAABwAAAAcCAAAAABXZoBIAAABPElEQVR4nGP8z4AbMKHwlj9Dlf2PBP4ydiFz/6PoZGL8icdY1t94JNnwSP7/c3IvTge9YWBgmIbER5G8zLAkmPUsFteul/nJcJdBz/33dyx2sj29xHCP4V2DtTUWSWOGowxPud24Z2F1kANbbi57wkdkNyAkP+SzcTG5dD7A7tp7Egzs5kxM+d+xSP5QFz/z//+TUuagf5iSXYyH/v//////NIaJGJKv+MP+39m299v//36iGJJZbHf+F0qy1Pz/P4PhBVoIvZmVp8zAxBSwmIFBm+EqWiCc/BPGwFCwXFyAgYGH4SNUkAVKczJ8Z2CQkTH4ysDQx22FFkIfhJygPtjM2IjhoMUMff//////ZyKr9TdMf4Yw+C1/vMqEIeQLlhD60yXHwMCgtBEpbBmRU/z5Y6amjEh8RnzZAQCkzW7/PPTWpgAAAABJRU5ErkJggg==\"/></td>\n",
              "      <td>apple</td>\n",
              "    </tr>\n",
              "    <tr>\n",
              "      <th>5</th>\n",
              "      <td><img src=\"data:image/png;base64,iVBORw0KGgoAAAANSUhEUgAAABwAAAAcCAAAAABXZoBIAAABVElEQVR4nGP8z4AbMMFZ/+Z8wpD9DwXfChl2/////3/vo/9wAJdsZeKw+vL//yfGaoQk3NgfLAvPxDD8CGLxxmLsNdaciQz7WxlX/8di7P9S5lPiaQoB/7FKfpa28jZgmIFd8v8KBl9WhkvIkgh/njqvsP83+/2L2Py5hI2Lg4GBgYFB5TiGsV9FnD79UGIQ8V6qzjYRXXIWw+n//68xR4r//xTGMBNN0kf3/////z++v/z//39TJ6ggC9TqS24MDAwMfAwCDAwMGmfQYoXrF8KNHN/RJLUPIyKW+TeaZPD9s3DJm8pokr6cq+GSl/XRJHk8VsPMffJGD02SIRRu7hpGO/Tg+8xZBmH8VXbFjJVAxX///////38DwxZMyWUMG/4/vvv/o7bqX0zJH5Z8/ix8x7zZj2CL7BcKUnWqDAwLECKMSCn+Oxvz8/ViIQgBRnzZAQDTqny80Vx3UwAAAABJRU5ErkJggg==\"/></td>\n",
              "      <td>apple</td>\n",
              "    </tr>\n",
              "    <tr>\n",
              "      <th>6</th>\n",
              "      <td><img src=\"data:image/png;base64,iVBORw0KGgoAAAANSUhEUgAAABwAAAAcCAAAAABXZoBIAAABXUlEQVR4nGP8z4AbsCCYj7YJBbChyv6HAwcGhgX/UQATVM3nKXoHGBh+MGDR+befl8E+koHBHVUnRLKLIeTS/x/yDF5YJL+L+///////FIbJWCSnMRz//////29K2HRqOEI4BazJ19Al7zLMhXDeFvEy+R5ClZzF8ADGfd8hyWB+AFkyTAXJqJ9zVRmT3yIktSNQnPGjjk3mLFxSKRnVkf+vqHCvhUlKZaNJ/n/jwDgDKqkehS75/5ej+n9IwOtcxohJViF2BgYGJgYGBvNrLzBkb6lBJYP/rUaXu3nNGBZl5lbodgYLvoM66H8/4wNUuQOMXTCv/H/KVI8iN4db7Qdc8n80615o6Jy7fHebM4P3q/8Iya+Gwnf+////f5MKAwMDg+LMf/+RJP8/FBee+vSqB4PhmnWrdv6BGQ9Lmnd8GBgYRGbAxf//////PyM8xZ+8/ilGCNW3jPiyAwDzFefXecqoCwAAAABJRU5ErkJggg==\"/></td>\n",
              "      <td>apple</td>\n",
              "    </tr>\n",
              "    <tr>\n",
              "      <th>7</th>\n",
              "      <td><img src=\"data:image/png;base64,iVBORw0KGgoAAAANSUhEUgAAABwAAAAcCAAAAABXZoBIAAABI0lEQVR4nGP8z4AbsKByL51gYLBXh3P/I4H9HowMDAzpcD6y5AYGmb4X7979gQsgG/uK4bQEiiVMKDxmBjySDGRKMjKgeRrhoP2xTxn23X5gE4+kHubsW2z6vgyqLFIMif8w/ZnH++YcA0Pz/26GIkxJa/f//6yFP/7/X8kwAUNSoPD//29P/////99VGyYGs/3ZBy0GBk4pBgYGBrfrH9C88oYBHnIm/y6jSf5mYIVJMjMwokn+Qfj4JwMbmuRfhOQvBnbcOh8wSGJIwkNth5IYmqQKwwUo687WZIywVQ+CMrK53mCEUC7/9///////v48TSwI7wRBx6d3fPa4MOu+wpL5edgYGBgb5iV8RyZEREfnvd7z/rBAEDygGBgZGfNkBAPD0Cd7EIdXFAAAAAElFTkSuQmCC\"/></td>\n",
              "      <td>apple</td>\n",
              "    </tr>\n",
              "    <tr>\n",
              "      <th>8</th>\n",
              "      <td><img src=\"data:image/png;base64,iVBORw0KGgoAAAANSUhEUgAAABwAAAAcCAAAAABXZoBIAAABJklEQVR4nGP8z4AbMKFyH+9C4f5HAaGqyDxUyTfslbgl+xhvIXMZURykL3gAp523GeagGITi2gsMFri98phBAUWSBZnzgyHwu5JdoBCmnR+mGjCwGbnJMvCWfkLzys8sLgbrBV////9/PYVVec1fZMmfvsx5V2FmHOVj6EGS/OnLvAjJC9e4RH8jJItR5P7/38ywBy75hT8JRe7/T6ZWeCCs+ZiNGnNsjH/hgfCaQRctWv9KwiV5Gb6gSp5hMEGS/IwqeZZDGy4pxnAbRe73FgNWePD9FA9HcWwx41akQKhh6vyH5EvGUuSw/RnPEPkRJndZ2OIXasD3s3BFbX337t27Kzmskg/QYuX/5SJJaAAUvYeJISWwv/vO/2dgkPIQhYsw4ssOAGrZf3McB4gNAAAAAElFTkSuQmCC\"/></td>\n",
              "      <td>apple</td>\n",
              "    </tr>\n",
              "    <tr>\n",
              "      <th>9</th>\n",
              "      <td><img src=\"data:image/png;base64,iVBORw0KGgoAAAANSUhEUgAAABwAAAAcCAAAAABXZoBIAAABgklEQVR4nH3Tu0tCURwH8O+9WiFKiRWYQY9FJOo6uIREIA3qULiEuURDQxDUFK0RVHsUtWaPoT+ghoKCIKyGClftIQX2oJcZkeK3oav3HsHO9jufex739/sdiag85LI4uamPKIwds6OgRWXo7kqzEh5igxVxyvKtD43q0bmxWINr7FEOZBo7vSFJuNBWB/x+KwDvYHcd+pL6bWfgGcryI9rTQpJRW21Cw3T1SJ4kOdxWOD0i72wBDRfka5LkvlPuN0WYf1jGRQmdfx/yQrG6Rt+4UvtomC/iE5aEH1pDyttLkjKASyhCfttwEzx+UxN/BaeArbgN5g9UNECsWxPSzSiurEJOQAn8hEXFavwImII9W8I6PAsYh5KBWUWPFBNQmew6kV0AJAJQ5LMqsVt82dNiVXYxKzZE3DinVWWkJq5OX06M77Hgs79r+OJw35EkFw0mM5odiOrb5NBaP32U+lqVwh+59cjQtthDiXANAIRy+qOlUuZez+8f2geEW0v/PYdfiwt3zPSY09oAAAAASUVORK5CYII=\"/></td>\n",
              "      <td>apple</td>\n",
              "    </tr>\n",
              "    <tr>\n",
              "      <th>10</th>\n",
              "      <td><img src=\"data:image/png;base64,iVBORw0KGgoAAAANSUhEUgAAABwAAAAcCAAAAABXZoBIAAABVklEQVR4nGP8z4AbMCFz/q/4hir7Hwm8YN+BzP2PovPrz08MG7cg+CzIklwMXxkmsvhgt5OLAdVONMmvuCWZmH+iSMLsvDJr/zeGX3+3f3kujpBkhATCZXNWFxGGq0fVn31mtA4MVET25y9tuTf///8vUv7/30HLnJHB8OD//////4dITmXY9f////+fnv7///rN/ydTtZhr/sEkP4l7oITM/++ZDBthki1MF1Al//+ViYMF3yELfQZUwKT6DObPW+oM6ED4LVTyxyNMyf+MUMmf//gwJH+xQSW50YKUgYGB4Rc7VHIj0xcMyZfcUMmF/zB0Xr3gC5WsZfyFLjmfM4KBARK2YfwvUMPgsmA0PGxvc4rO+IOQ+rdZTOEhIuCvujHobr97/927d+9uL0xTZdC6jxQr//9vQYSDWMCqvxBBRliK/73z+8d/DAz/OC3V4MoY8WUHABjrA4GzdpzsAAAAAElFTkSuQmCC\"/></td>\n",
              "      <td>apple</td>\n",
              "    </tr>\n",
              "    <tr>\n",
              "      <th>11</th>\n",
              "      <td><img src=\"data:image/png;base64,iVBORw0KGgoAAAANSUhEUgAAABwAAAAcCAAAAABXZoBIAAABcUlEQVR4nH3TTSiDcRwH8O/z7BlGadq0ZVyQl+0gLhKKg4jycnTZWSRKLUU5OMnFSYncHLjQWrhMu6Ld2IRFrW0iDS3W2vZ1ePbkeezhd/p/+/T/9ev/IhB/l6iNp9eaSE3Z59RJu/P1qenvtiG0/odOdZSUxVX43TAYtthSh2mzo9OgGWi3BICxyrleDQC2mQ+SlDHnwehtPLJshTAWTESO3KXdHwqmxrGQI8m9iQu5ka+0NyNjvN24zV+1jwMZB8xnv435ln4SpBdbRUaui88E8y1tWR28hJcSYjc7Bp0bqcQXRNzApWOIog4ikqjQwxgcENEj+PUwZKoByLYhnXnoGiZBrkjnxRbBJgkyVe9Mk8xtvqhwqiwun1BAnMuSi1j7sZDkUQ5+Hg0bk4Kx+UGx1y5rUsH8cR/Mq4Fqq7+wr7HcRwVJXr+Rjx3S0sld5m7WVBukGkmSn24BAMqmE3IWtC8+eX8ftYzYC0n47zt8A00tgWJIwqf3AAAAAElFTkSuQmCC\"/></td>\n",
              "      <td>apple</td>\n",
              "    </tr>\n",
              "    <tr>\n",
              "      <th>12</th>\n",
              "      <td><img src=\"data:image/png;base64,iVBORw0KGgoAAAANSUhEUgAAABwAAAAcCAAAAABXZoBIAAABj0lEQVR4nHWSO0ibURTHf9/1VZJYoagRtKKDUsQpZqhgleIQERzEUXBys0VxcCiFDoKrWwtainMdBCEYzeRjqOIQfKJUfMS2S0t9xGhi8e/wJbGaz/90zvndex73Hks8LvPAXwr+f1r31YDvIOM8gDeeUsKPwSPyS64zXu79klGSXblwubLj9Zdjw6vF5RhQGYhD19mXr6vX4N19iiQl/KmLBYPQW2i9+hD+9ZkVu2aQ8bgkHbdYQM+6JM2l4duipN3BbwuGbTNIxG4o1Jpnp42ouvW9bcZxg6TvjKWb/5MZY4KfMsAMgfQozzJDxfBggFB9Zfajx3FhIDHf5vAjF09yMLAQc4RuMBByNzlBFxiYfV3gAM89YPix6ZSVyAswnFLhwE63GsHw3DXtAL/dvASkdzkbylLAeyUhnRR33AW3B/5KUpiPqTUZpW9m51KSlPRRty8lfLXJFPz3xgWU+jv7h+oZKSlbmmow05JkCSCxdhA9OoxGz5p7uvfad6n61AZgZW/8yWRNs73rDvBOt95xKPdeSHWXAAAAAElFTkSuQmCC\"/></td>\n",
              "      <td>apple</td>\n",
              "    </tr>\n",
              "    <tr>\n",
              "      <th>13</th>\n",
              "      <td><img src=\"data:image/png;base64,iVBORw0KGgoAAAANSUhEUgAAABwAAAAcCAAAAABXZoBIAAABaklEQVR4nH3SS0tCURQF4HXPvSENSougIiIqCkXBiAicKD0IrKYR9Df6AU0aVTariCYFvUcWERUNAh30AImICikIhC6UkKmpILga6FW7PvbonP1N1j77SETlElVMwxfn/HsZJUlSdcvS0Ad1Be2gLpv6fysheYlVHRYFGml5rpJW0udR/t2CW8EI2i02S4dUSJt4i5Js6ZIM/a7hTgkw7uQDHTVBGfWcGOSFMEnG7zZH5O0cHgrH+lwfgCa/ljPlrrnO4uBAmmQksG+RXzSN9XZHCVIVS7nOvXjMz3iDDSrAeWYyF9b+1ZgPbkMMAlDRo3UKBhWtEEDIWDI9gBDaIMDj8XLoU+wAb3GgXxXJtNlFgh78lMFFXGQxWWqnygxJcAXfJbZb50iQBL3w6Sg0Aedn9uGTJuteuNgezMa1DElSIs5mn4S1GckUALne9Hpf6x3LbZ8AA1f+OFCnAOlYpGF6yogCVqyqP/4PXEVlbLMVSdQAAAAASUVORK5CYII=\"/></td>\n",
              "      <td>apple</td>\n",
              "    </tr>\n",
              "    <tr>\n",
              "      <th>14</th>\n",
              "      <td><img src=\"data:image/png;base64,iVBORw0KGgoAAAANSUhEUgAAABwAAAAcCAAAAABXZoBIAAABOElEQVR4nGP8z4AbMCFzPs39hyr7HwmsZ7iNzP2PopOT4RNuY8UYnuKW1GY7j1uSTQuPJIPhOXySj97gljRiuIBbUp/pHG5JHtWz75ECiREWtv83bT705vcXBgZO7fAvcUooks+jDog7yTAJMPE/OrX3v9tsOYiO////////WlNw8V9YkN7UY5D89f////9QyWDeU0gB3sBg/R8heYOxHTk29jHsQYqVnf8TkR1twX4IyStHVcWRJTnYfiBL2qB49/xnUwa4a/+hWvnXjffD//////9nYWBgYPj+nwtJ39fMXYv4ETq/sTTDtb1apcHSA2VDvGLFlvv8//////9ucmNkUDr2H0XyZR47d+WV592KDErt5+EhBQuh/w+TWBgYGN03I2T+//8PjxWGJ6eeeKih+AgRZdgAABFjBPA3CL+eAAAAAElFTkSuQmCC\"/></td>\n",
              "      <td>apple</td>\n",
              "    </tr>\n",
              "    <tr>\n",
              "      <th>15</th>\n",
              "      <td><img src=\"data:image/png;base64,iVBORw0KGgoAAAANSUhEUgAAABwAAAAcCAAAAABXZoBIAAABRElEQVR4nGP8z4AbMCGYi19iyP6HgT/cBf9fnPyPDBCS/6PFflVwfUSWRDI2/tV2hm9rcdjpLLeQneECdjv//69iq2L4hcNYhoTf1xj+49L531aA4TMynxFZ6S39H/f+f9NggfHhksd3vWH2WjuL4weD9IQQNGN7WFil+BlkGRiqV9gyz0cNhE6G2G//f+1aqKms+v+HL9MMZMlH3NFQxc/2/f//K4TpMpJkON8zZFd+FAlGkuQsRgnw/xUc3+GB8OW7HGpUyf/4Ag/bbwzMqJLP2YXhkmIKR1Al70kzIvyZLP4P2cpPvJlIDlrKcBlZsgbFK88Z+5DkbrGnoISQvewXuNwXJ6HXKJJnmbL/QuVOarIs+48i+b+SwX7axT+f7s1zZJA/+h9N8v9SRYgvNKYgLECK7GfH7nLzWSsjeZcRX3YAAA9/nDCr86GLAAAAAElFTkSuQmCC\"/></td>\n",
              "      <td>apple</td>\n",
              "    </tr>\n",
              "    <tr>\n",
              "      <th>16</th>\n",
              "      <td><img src=\"data:image/png;base64,iVBORw0KGgoAAAANSUhEUgAAABwAAAAcCAAAAABXZoBIAAABbUlEQVR4nH2TPUhCURTH/zc0k4f4EaXZ5NAQEURBFA0NRYlD0ZAQgVJjo0QuQkuD0R60RSQN0hxUIujUB0QZCCUZURLyHHogmOE7DXaf712qs537u+frf89lhL+tTfAzCVXnkd4qw8B4UXONkWv5RPI1/XvkA+KGRKbmlepJttYVvsCCIREjACjOFDrtpU+ndeX2XnH3eP1Bk5Y25/WkGyRvgVlGwpHlSR/6P4iIQEQll++RiIiO5t6bxZLY5/AMWRJswM9HsSEjahNMybzmGLsRItPIchEOXDEhsgNfXNu+2ScBmlHXhO99E2C7Dj47BViCgzekWDeEhtal2s+cdIxLAQ4FtCdrwG7MKt9NgdfsRtkIz9VpHcwb4aF7ELyh+qhlu0rxPV4xjl3iwhMpi8yzKUWaqLiEEOkg0XUAUoqIqLBqlnZUIyS6MkdVJRcy2aJlfqRbsAkAsMfk1glrbXzl9EWyzTt0TbP/vsM36yVYDIoJ5akAAAAASUVORK5CYII=\"/></td>\n",
              "      <td>apple</td>\n",
              "    </tr>\n",
              "    <tr>\n",
              "      <th>17</th>\n",
              "      <td><img src=\"data:image/png;base64,iVBORw0KGgoAAAANSUhEUgAAABwAAAAcCAAAAABXZoBIAAABdUlEQVR4nH3TTyiDcRgH8O/etpb9wfTWUkt22TJKKRxESznssnISN5KcRHJBLlJqF6UcpJWTnLBSnEha/tRq2UHIn8Pa0raXaTNr83XYjHfeeW7P79Pv6dfzPD8VUTkEWZbmP2hbrYy5cAShrtmfA/6KBKZuTHCUctnNJJ7dEkZLuar0hI+zmgZzXgvDfCbX0y0re+HWA3oNHIVS9jWSLGB8RLBMH+xMagEsxZjZcmLxG+/tVQspkgy6Nj1ZkuSYyltAyWK+ZFnkXKYXguSE5qrcyHPsEWRIPfPXGMUGQTrrkwqYhYdqRI9XjAoTyUALAUF0Ko0rDhECruFQwgCsEGBAWgm91g4IaMStgkUOhwWAr3X9Co9dFp5IkB4c/UV7X6G3783VJ+Xmw3ax8dFW3VxYZlJTS76ITAxpNIP+z5LdtetOSbK4CeG19Vhtm00U9SlJetjX7/bK1iTj8wce42lAaxIHxsWyHQIApN+Mup9M9d93+AKJTlksPPSVggAAAABJRU5ErkJggg==\"/></td>\n",
              "      <td>apple</td>\n",
              "    </tr>\n",
              "    <tr>\n",
              "      <th>18</th>\n",
              "      <td><img src=\"data:image/png;base64,iVBORw0KGgoAAAANSUhEUgAAABwAAAAcCAAAAABXZoBIAAABcklEQVR4nH2TvUtCYRTGn/tmeBM1Q4lQaCikqKgGa9RFspZcCmtoapAagwLHIujjP7A9y6WtqYZwKeibhExwMO1CH6ilVoZ4Gq43r17tbOf5cTjnfc55OULjYPLkaKdQTakScQ4BCjq//wR5ZZEQWZ9hqrqVSWAA3p+KIIdvAFZkOXGyafNaGCKCqV0tCWKD2PZj8b2UAZy2JNSuJYcIOQIQmmju17TwLAhYNz/vA4k1HycN9GwceiEiogPDdJqIvubhLkgDbbBoeQLpiX5uqwxLVhfVhkcniPAWewoY532iQ1EMKyzvtB+LxuegVy7Efp2t2YocFk8BBhghKGE3BIABI7hoUM6ADsulUs+DF3va6lTeoU+Eo+GEAh7qegEQkaCdqzUhovJJy15l59UsM2hMSTBn6bmSs5SDD1Uu4Wz2yWM2tT6EYhrvYnbX/7rvBiAd2MdClx7Qji9PMaBp7EZxQ8V0mwoIn6gmzWWF++87/AIh0T2bIEQDVgAAAABJRU5ErkJggg==\"/></td>\n",
              "      <td>apple</td>\n",
              "    </tr>\n",
              "    <tr>\n",
              "      <th>19</th>\n",
              "      <td><img src=\"data:image/png;base64,iVBORw0KGgoAAAANSUhEUgAAABwAAAAcCAAAAABXZoBIAAABg0lEQVR4nH2TyytEcRTHvz9jpmk8M6MmmoVHUkpJslDklbxKLOxYkZKN7PAPKLGx9CgWNlMeCaGUIo+SaEKhNI0YmsEgrnu/FnfM3JlrnNU559Pp1Pd7jiBiR5y+dbweShkdW4l1v6kOrpuLvbGg21biZwyoVKZc8y8ou+64iSnKN09SNFQ6kPnRnOGbyAPy/VGwD22Yj+vNQsXkmLkzEq5gyIUmoyl3j2R3RgR8zy76vocBLX6SHMezFo5gh5JAg0KSXMOBBgbSzY+kBVdquY1dkoxXRXR6h61A+322Wr4iIaytXGp/02oxBh9Jqq4s7fdYtMacOVLDk512JULF8lqGJpXVRgEAngFJnZRNYbNPHuoBAMujZ/pL+IQVAHCJWz1MxksQHulhEl6DcFpd+qbZmWZyAYB0U+UZBADfaanmwFodEslzzPeLBZJOHGlc2RS1h1euXnHxVZa6wUCNTdZaNmMDgC7SXQBAzKldEbz4wKLRWJgDQJr1GqqL1Kb47x1+AK1qkm2zUVyZAAAAAElFTkSuQmCC\"/></td>\n",
              "      <td>apple</td>\n",
              "    </tr>\n",
              "    <tr>\n",
              "      <th>20</th>\n",
              "      <td><img src=\"data:image/png;base64,iVBORw0KGgoAAAANSUhEUgAAABwAAAAcCAAAAABXZoBIAAABOElEQVR4nGP8z4AbMKHwbm9Elf2PBF7IGSFz/6NI+vFewS2pGo8i9x/Fzj9seBz0hwWP5G80SSj384bjn42T/7Aw7NknamTFiuKV3RIMUmqM5pyKCkw8jAza+5Bde4rZ8NT//1vl+UyS+3983KTJNA1JMlTsK7IPfoQyNMEl37LUofrvTzrDXJjkeobT/9GAp+BzqGQ+/x90yftcBVBJPR90uf//vYyhwXdfCzMqdW9CQ4jjF6Yk6z+oJM8bTEl42Hque40h/h8WfPdZYv6hO8hRDxZCvQyFaHL3GHtgkv+rGMo/oUjmsb6ES/7PYeDNuIDQ58qQ+v////+M0HR7YcbSL/IGBgYGHKdOnTrC0ZvACI/P//////84J8mIjYGBgYHDovg5RIgRJcX/vnbhm6k+PCEw4ssOAKnGgHEvSbHtAAAAAElFTkSuQmCC\"/></td>\n",
              "      <td>apple</td>\n",
              "    </tr>\n",
              "    <tr>\n",
              "      <th>21</th>\n",
              "      <td><img src=\"data:image/png;base64,iVBORw0KGgoAAAANSUhEUgAAABwAAAAcCAAAAABXZoBIAAABS0lEQVR4nGP8z4AbMCGY71f/e/8HVfY/HKxk8JNv+I8MkCTfszMwJKBIIhkr4MDI8A7FVBYkNq/mo2tpH5RbmDHt/LNBjpmBQYKbYRMWO1MYGMzXXIhk0H+GIflzEjMDb+f/hQytvzFc+zeYwWnHn///pzK8wfRKFcOM//////+/m+EAhuQexkII95NQOIZkId8fKL+J6Qq6pLs1jP9ByPEPXBISQnxfYd7mn74/8BFqIGTKIMyazsfd9QvZ2DoOJGc8DWfQuYwkOYnhE5Ls/518GUh2ajCcRo4NN/XnSCnBjmczSlwx/kWSZHfdgpI6bqsgpyHfO4eRJA+8t0WOzy9asq/h7rkqJ/sLOeD/X+VWX/sPwjwqJHftP4rk/yOGDBa7775997KVU/fJfzTJ/3+XKUFcGvEeJsSIlOJ/7frwjeGPlQHCR/iyAwBP0K0Hh2yy4gAAAABJRU5ErkJggg==\"/></td>\n",
              "      <td>apple</td>\n",
              "    </tr>\n",
              "    <tr>\n",
              "      <th>22</th>\n",
              "      <td><img src=\"data:image/png;base64,iVBORw0KGgoAAAANSUhEUgAAABwAAAAcCAAAAABXZoBIAAABY0lEQVR4nH3TsUsCcRQH8O/dKZpDWVFTgxpCICQEDeEapUOBSxQNSi0pNdUQLgUVNQbREjQE1T+QNDWFUSEltkVhNkZBJ6mdZXwbvFPPy972fp/h937vvZ9ANA9TQ55JdAVqGXVxasFoLdNj0uJ7YBMs9LlybIaLUoLN8MUW4R9YPj+SyZj5icw8fumxFAS693L20MmcE5AcY+k6XJV2rkYwLkTRMbF/vDHbY72uYr5zkmRYaEG0TJJ8d7tkDeO4IFmUECyrl92YYxqumT9JcmqwWC1luv1DxaCXjZEWtlV0hA3IYcc3KQLys9c4rYVsEhCBFAeM6MIrIAJZOI1oRw4QATfujFgCAZBKr0cxFLSLbKXahBgzYKBf6+28Kd5gBeuyhvkhceVHh+u41JBKBP63Ojs0zZC1TTiwtS6dySSpJLb88Bfqkfchi/YMybtZGY9Q2/j8bUoBIHp8beqJ8N93+AWgR+Cofk312gAAAABJRU5ErkJggg==\"/></td>\n",
              "      <td>apple</td>\n",
              "    </tr>\n",
              "    <tr>\n",
              "      <th>23</th>\n",
              "      <td><img src=\"data:image/png;base64,iVBORw0KGgoAAAANSUhEUgAAABwAAAAcCAAAAABXZoBIAAABb0lEQVR4nH3TPUhCURQH8P97T9P8KKKkKKGwooIkMtrbmgSJgghpiAghaCmDRmmRaCswFyHILahB2vqgFkcJpyjEekSCH4kIfjw9DV7N57POdO/9XTj33nMuR/g7eOXSm/+9PiR5xPcmwV2wiRxLXr3O7hepLe5i7bNpKsOEziXbK0O3Oial09W2mDRu3g4DQwcvbfBIcHFWn29Fwy1XmlEKOaYOtzuxUyCipAfHTRi2wLwo8HCwfKvaaAPPOiZCEj0LwjdLkBq0SQyfsJQloofuQCP9NYIMnaYCtYZtulrDfpfC6BRfRDyAzICyNCqoAB4olYxKLEMN8EAOBiVKDA0aUYlFhpr5eyVGRlS1TjjBXethK31b7J7FsblKC4ZwVX++S5zLLW+ZKTcefqErQkREmUCeiCi1zod/q5IY7XHfRLNhK8a9wcd9o+BpKhnFnFoA6PXP8oB6g7UCV+/43OtH3GTXoySKFjNb4/77Dj8WCsXwZ2pycgAAAABJRU5ErkJggg==\"/></td>\n",
              "      <td>apple</td>\n",
              "    </tr>\n",
              "    <tr>\n",
              "      <th>24</th>\n",
              "      <td><img src=\"data:image/png;base64,iVBORw0KGgoAAAANSUhEUgAAABwAAAAcCAAAAABXZoBIAAABcklEQVR4nGP8z4AbMCFzbi/7C2H8PgWh/yOBSQx6R/7/////ox9D8/////+jSP7fIqP////7RiFmJWVMyf9Bpm9q+Jkir3QyvMaUdLcSZ4m78X+DpB66zjNZKhzMnJduLAxkML+OIvmlR4eBlZubgYGFgUG0589/ZMnNckwOCyoYGBhEZFgZWK0nIUtOZjI98///9+7Fd/7//36gwYphJkJyI0PEL2R3/fNnPw2T/Kli9BfV1R/k/GCSfQz7/6OBMs5fEMl3wgHocv8nM3z8/5+JgYGh6VMn7lhZH6aGIf6dkRUi+VEGU9NZJU4GBiYGhv+f+DDkrq8NhsTnD6ZKDPd4ibyHeiVM4B2a3B6GabAQus5cgyr3XUfrNzz4Ejgvo8i5sez9D5d8K6v1FUVu5X+E5P/DLGZ3YXKHTWFysCjbLsobs/LFux9/d/owKGz5jyr5/2m6FMSHkhN+wi1ghKf4/+cu/PnAoOXJgggKRnzZAQAPQ9N2CDCdBwAAAABJRU5ErkJggg==\"/></td>\n",
              "      <td>apple</td>\n",
              "    </tr>\n",
              "    <tr>\n",
              "      <th>25</th>\n",
              "      <td><img src=\"data:image/png;base64,iVBORw0KGgoAAAANSUhEUgAAABwAAAAcCAAAAABXZoBIAAABuklEQVR4nH3TT0jTcRjH8fd3035z6doigymWK4Y/0WyElB3qUBKEiIIHCQRDCBkajnURYmGU4LXALhFCh+gg4cHCzA5BXurgP7QkTE8Shaljhcttj4df2vc30+f05XnBc/h+nkcJe1fOv+fEqK/xqF1lu54eAO+MiKyM9C9brR2cd126OXM88GO5yw0DWRhzPWfyI30lQPufLLx69gMv087DXr/xeLu3g8GWpLtbnIbpHJRdWHtBLp+booBHshsjvtT9nAh0y39wWF15QTmFifdja9k4WgQOI5e2UvAP2fG1q3rwyREF7rI7fTXqrY5LeTXrIskmqKyFBxUnkxp25H0TEUkXe79fNPA8442G/lZrzjHm5Da5N/JviYiIAwCXYaXQZbyjkrqBwFctMs+6hdH6Ek4RTzkSGnp//g0wCGWh8YbNVQCssScWtPgnNoYO/dLQXPpt24D8hIblmS97o8knIN4TB+KAKA0DxmdINd8dg9mih5A4qC/YmdCmdCpHryRDFG/ItSr941/RdJ2YaS5GVI8Kj5w+b4ssVugLZ8Z9EJUoGPdERETZNn5hOFCvMtPpoAcAtd85bAElomB0V8qcnQAAAABJRU5ErkJggg==\"/></td>\n",
              "      <td>apple</td>\n",
              "    </tr>\n",
              "    <tr>\n",
              "      <th>26</th>\n",
              "      <td><img src=\"data:image/png;base64,iVBORw0KGgoAAAANSUhEUgAAABwAAAAcCAAAAABXZoBIAAABPUlEQVR4nGP8z4AbMCFz/m78iyr7HwkcZTiBzP2PovMfw0/cxrIw/MUtyczwZ5ZX33fsdp5lMGBQZvCF81EkLzAwLvzfwvAOq4P+M1jGMQgzvMUw9vuWVAlWBsnkMG4LDGNvSzAIJ/AxMDAwKG+HSzJCg8/jwjJ75rfbv7Hcnf95kyOqsWcZJsKUvzbi3IFqbIjoV7hh703FfiNL3mNqQfLRBobZyJIrGW4gSX7lVv2D5M97zApI3uWad/sAUtjelWZHDowA/o1Ikn++/0CWZNO+hySZ9XoBSlwxovjTXuUPcgzohSD7cyvDMiS5X+x1yJL/LEUeIyRPMaxBCfj7gtYfYHI3LcXfo0j+38QiGlM9c8e1j6ucGTnW/0eV/H8lXJOTgYGBgUGt9w1UiBElxb969PCxvgMj3Ef4sgMAysWBVCXGUFwAAAAASUVORK5CYII=\"/></td>\n",
              "      <td>apple</td>\n",
              "    </tr>\n",
              "    <tr>\n",
              "      <th>27</th>\n",
              "      <td><img src=\"data:image/png;base64,iVBORw0KGgoAAAANSUhEUgAAABwAAAAcCAAAAABXZoBIAAABRElEQVR4nLXQO0jDUBgF4JNUtA4SBMWlSMUqBCwoVBcRhKCDkE2kqwi+ECdxEHESnFw6KA6iiODgID5QMhfUFnFThyJpRXTQdpBWWmhzHJKUvuKkZ7lcvsvP/Y9AOEf8xf4OFw+d8XPrzRnPC2rptc46787S9Z7ghU8ue0yS/J6Bu1mC2x0IvxosBiSZ8rvW0mRsSQHQ0DU6fZwjSQoEMLunDZtzEno8rsdj7/7TDmtsVFxhWYyrthbNHJsPeDOsSKIXQ0mCPMJJpZHZHYQIcrCn2kgK6xSRup507vaBfbXgha0Q8Qi5FmpQIKIdBzXR1wmQQUzcfpn7FYrfyUkLJEgj1Ah4x5b3L5XuGxtXhbDV7Ye2OTXQBAge18juk0Fy2zVvF29GjyQzGzIgKWo/xrN28aV5jkTv85I6JwCowvIS/gV/AAt0+Z0Iw2LdAAAAAElFTkSuQmCC\"/></td>\n",
              "      <td>apple</td>\n",
              "    </tr>\n",
              "    <tr>\n",
              "      <th>28</th>\n",
              "      <td><img src=\"data:image/png;base64,iVBORw0KGgoAAAANSUhEUgAAABwAAAAcCAAAAABXZoBIAAABg0lEQVR4nH2TTyjDYRjHv793G7+lxihrsQMuI+3IRaFJ7eBEiMNICUU7DNEOuAgpJ5dJLk7TTqSkuJAoDkRqIgfLQZHJ8Nvv62Czfz+e2/N+3vf7PM/7fl+J+DtE5sL1wl0yYXps54u13+QXbs8EnslDQ+1DcqcUr3nlUCC7+ruVNrPBbc+QPcDu2bjVCKvNLE1myl5glbw1OUlF9iVgotugcaBxSI40uQoLohE1TfajTw/k5TjQLKpgQ81JiqzSqvN4O/MACTB51YBNeJQEVN2Sn2RoyYLy4DvJyCh61TgcweKPTHj9M97KPAZVEuQxJpgV05glQXYXvWVDtpvfCEbkMQ3GfexS4CDaovVcJXiCwCuKteAXDBDIRVQLKtBDQNaGMeggUCYd/X2yom5Fy0df0EMAw+c+DXiKcoCkBw2basaYT5b6+MUvV6By6jiWwj67ci8TTohtOA2w9Pj37n8UtuyYS7EJXwK91mTF6h0y6T4AQDh08wgAKO3QA4D033f4BubHZFZ2TzObAAAAAElFTkSuQmCC\"/></td>\n",
              "      <td>apple</td>\n",
              "    </tr>\n",
              "    <tr>\n",
              "      <th>29</th>\n",
              "      <td><img src=\"data:image/png;base64,iVBORw0KGgoAAAANSUhEUgAAABwAAAAcCAAAAABXZoBIAAABMUlEQVR4nGP8z4AbMCGxr+xEl/2PANmy/1EBsk75J99wG6vy/x4eSYY7uCWVGdEkWWCMu+wyXFI3N95gYODUsmVHcW2nEAODYrwszIhHEFGI5EaGoIUzomUYxLb8/f//w04hi59Ikv4qf////////VuIjm1MRQjJTxwVqL4vZLkGl1zBcBpV8gN3GVwyVOEfWsB5GMGD75wdI1qIqz6HB4L4WwasgImBgYFB5gkeSfl7X3FLRn6Zhib8hQsRfP5in9Fca4MIofMs8aiS6mEIyf9dDHOQ5TYwLESS/BfAcQ4h91tT/y+S5P93CnI34ZJrGbb9/////39GWLq97vp73tHzyR/3/mH4slv0EQtSZP////++KgObCgODrJKSZtVLiBBSun054/nveSjRw4gvOwAANLBndexOMdEAAAAASUVORK5CYII=\"/></td>\n",
              "      <td>apple</td>\n",
              "    </tr>\n",
              "    <tr>\n",
              "      <th>30</th>\n",
              "      <td><img src=\"data:image/png;base64,iVBORw0KGgoAAAANSUhEUgAAABwAAAAcCAAAAABXZoBIAAABQElEQVR4nGP8z4AbMCFzPq06iCr7HwF2sDPI/0cGyDo1ojg5cOq8xcBoglPnb4b/37HrPBtsZsnAIN32CUknTLKIUcLTSUFElZEp/upXNMk6hqIv////////oioTA7PXQ2TJpQzZcLPuhTOwHkCS/KNi/RcumclgdRnZ2NUMW+Fy7Qx1cIUM/////++r/g/Gf88ThebPA56MMJ89/hKGFvC/+OB8QYZPaJKc35Ekn+OW5LadcB1VkuMHQvX0f/oVz5DDVisaKUDfZzEzWfU+gnvFTR8lph70WDIJwCXnMlz8jwoaGOH+DOGcjxqPDCwIB/HFTGxDlXzPiIjsXykMztsQYf+vgSkSKT7/z1RkUCtad+3uq3f/z9doMmT8RJb8/2edFy/UTHavtRAxRqQU//fy3T8ff3+R9+SHCjDiyw4AafNzSOVNLyQAAAAASUVORK5CYII=\"/></td>\n",
              "      <td>apple</td>\n",
              "    </tr>\n",
              "    <tr>\n",
              "      <th>31</th>\n",
              "      <td><img src=\"data:image/png;base64,iVBORw0KGgoAAAANSUhEUgAAABwAAAAcCAAAAABXZoBIAAABR0lEQVR4nGP8z4AbMMFZG+5iyv6HASVpTpc//1EAQjKOQZehAZfkAob2ZLbnKJIwO++Hb2b4V/9nGVY73XjFGfz/c9Rh1Xk6+QTDCVxe4fsgx/DqBw5JtxV3xP7P/KGI1c7XwmySDMymqB6Fe+VmDS+DBqpP/rNADXi3ehcDw6vi39+/f3cqFIIKMkICfmHONyelm5z3uTi5GA+q7xZHtvMRj/NNuGFH+NWfINsZzvcUyarTQhZIkq9Za1EcsoDhKEJyH8NhFMnvYhGI4GNi+Inid47UtW/hDvosFI7qwW0MF+A6eXLX7EXRysXwDeGVb4Zij5F1bmI4gxR8dwVNkILul7PQb+Sw3c0nvh0m9zWWcel/ZMn/t40ZjCafuPf546lSIYbe/6iS/3/OsYK4hj3+DFSIETnFP7jz+s0/VXNhGJ8RX3YAAHBEppnOiEuVAAAAAElFTkSuQmCC\"/></td>\n",
              "      <td>apple</td>\n",
              "    </tr>\n",
              "    <tr>\n",
              "      <th>32</th>\n",
              "      <td><img src=\"data:image/png;base64,iVBORw0KGgoAAAANSUhEUgAAABwAAAAcCAAAAABXZoBIAAABRUlEQVR4nGP8z4AbsGAKPd3IJi2nws7AwMDwHx0UMTEwMDCE/P///z+GZCVDzsMXZzddxya5haEAwWFEc5DVu2tMCB6qxgsMc5B4TKgaDzJ4Y/PKhdm3mJzSjqlKIKuFGPAvjoHX2YqJW0Ub2RKoZB9D3af//2+6MnDYzP2DJnmLNer//////39cWmbOoH0SVbKG7Q3Cp/KGKJL/lPyQbFrMcAhZ8jzDciTJH+KhyJKdTG+QJP+XsCEHwkFDYWTfCf6CMpgYGBgYPoljj2wmBgYGBo4PKGJHFJFDqIkZ2c5bTF3IDjrHsAxJMofrDbLkP5kohNwnvgzUEEoX+g0T+J7AeAVVcgvDUij/qh5T039Uyd8OXP1r9Uvvfp7JJb3vP5rk/3e+DAyKzAwMDH6vkZwGT2DXXtrcPf9GNJwRycPoqQ8FAAA7W8DIkdPwCwAAAABJRU5ErkJggg==\"/></td>\n",
              "      <td>apple</td>\n",
              "    </tr>\n",
              "    <tr>\n",
              "      <th>33</th>\n",
              "      <td><img src=\"data:image/png;base64,iVBORw0KGgoAAAANSUhEUgAAABwAAAAcCAAAAABXZoBIAAABWUlEQVR4nH3SzyuDcRwH8Pezjdl6WPvBMk4SWVjJ/CpzIIr9BU4OTko5+StkKzcRKWVT1g4uopXUWphyEMtRC0s8bZjVnrfDsB/PHu/r6/v+fOrbRyDUo/nHyvHz/rVcWcyCFlMsTWkzMNBiVB3bJxjNqjhymX5X3Zk0wFt9Z+ZZbp5HRtHMLA+aAbStxGGd6HXUtvukQlMgst7T8W6LqAsf6bOODrvNdnZiDY0Wmnmvdr/w8HZx9o4kee2qC5MkGMMaKyN5xARJ0Ic3BfLJ7s6RGgioUX5509bFKgAG4Fc2yelOEpTnhI0quIM4Qea8upASX+AnSH6M6Y8VeINdgiSlfjFaiTMNyQIy5bSE5TLbxjp/kA896Nr8KlrUNCn/IfMHw3Cnfi0iOh9ZRJKH9QYTUDu0tBdsdaVIUii526sgjfr0eUyCJuIBAEF51HJCZ2qEClY/MEW+AdK+fC/867mBAAAAAElFTkSuQmCC\"/></td>\n",
              "      <td>apple</td>\n",
              "    </tr>\n",
              "    <tr>\n",
              "      <th>34</th>\n",
              "      <td><img src=\"data:image/png;base64,iVBORw0KGgoAAAANSUhEUgAAABwAAAAcCAAAAABXZoBIAAABfElEQVR4nH3TSyhEURgH8P+ZGY0MY4O8RnksPPNYsJFIJJKNMuSRtTJJ2VgLJU2zYjHKQhZodhZKycIzafJIWYyZZMFiPK4pZsbfYu6due7NfKtzvl+dvvN95wji/zAllj8XqRUmAIgc3TY0AgAYjwHAskJyrxKYIkkmMGTu2e4Vm3SKSs8LNchx61u4LWdDjISVjAqvxBKvTbl1Eerxi122NxZiixo87bQCpf3mju/C7Kjkdt2pcC2leHph3p5hFGPm2R0bIJxxfM3oeifJYLcAzGg8fx4WLgU9OIsd8z0qINajZGTQ+CjjjCVe/EHfDUkyYFiUsaWVumivI2kAEMzT97zmCYAhyVBi+JMECwJJsN77ocv7s+R5erGqLTac6VDa11SrxQPsKujGqQYnUj8VlPKrpD92ZnQkRnZoar5X2Vd1iZRAerLTlkKK+bvFPlXI5wGkDy17LoMvx3OWTDf/IHkyWSTf0f4kp4T6xYd8vgdjWblN2Ytk3+EX8BqxsLXDLwcAAAAASUVORK5CYII=\"/></td>\n",
              "      <td>apple</td>\n",
              "    </tr>\n",
              "    <tr>\n",
              "      <th>35</th>\n",
              "      <td><img src=\"data:image/png;base64,iVBORw0KGgoAAAANSUhEUgAAABwAAAAcCAAAAABXZoBIAAABd0lEQVR4nH3TTyiDcRgH8Od9rWX/sFnStvInMdwYZ+0gB+ywg4slK+UgmZuSMpKUOCnJn4vigAO1g1ZKjtpq4bIWh/m3ZabYmm1fB6+9v9/Cc/o9fXqe3vf7/l4B9HeJbHN7UKRgylsKrrhJffqNG1SwjYkum6OpNvWva9NNZiWR1nUh9ULhacPbcYXR27qaP96P9W0Z2cmYU1TVG0QyAkivaNuTACDhXY1mIY53j9gPAPArJ2VM2SpDAIBQBACQ0U/I6BZ93AsuC6cF9NEiI9nNAaNhroAOS1a2Zzs1uh1CVMKscooZHNLsAQj/TD7RBoMVI1y2CSpjMqxOcp+sThNg0H5yzWXbbWPWxswNN9KRAGBJjDEasOjGgjIGaJeN4GFYZ5IRLZ1cQEhYp2XcodEPFueFMxnzMyXW9deCRdQuZi1w3kGqQX/uu+nVP3IIhDxVVDt+eP95NUtrKEIgc+QsJyKiHmmDwN/4XDD4YuoyS53w3+/wBQD/0L3DJhw5AAAAAElFTkSuQmCC\"/></td>\n",
              "      <td>apple</td>\n",
              "    </tr>\n",
              "    <tr>\n",
              "      <th>36</th>\n",
              "      <td><img src=\"data:image/png;base64,iVBORw0KGgoAAAANSUhEUgAAABwAAAAcCAAAAABXZoBIAAABcklEQVR4nGP8z4AbMKELvJuPxPmPBuYwvIWzMXTe5uCHs1kYGBgYGK4d/c/LJWDFysDAsNaNGdXYRRAluif+/z/HsBhhBcP///9vMfk8fXf/2jol5p7/VewfUCXL2V////////+vUcyHpYL/o0qqBEE5X1UlGQ4gSTIxMDAwwtzHVfCcf2pY8w/kQBD4AOO9Yfh9706DwWEkScH3MElRhp1nzh1kcMj5CvdKuC7Mkn2sz/7///+9kiUI7qAO5hcw2Y8QahLDcpjkdYYFaAH8117kBVTyv0AhevDf4Q6DBbz2NfTgV448CotP8Xfokgx/eGCSPF8wJL9ywyU/45EUfXkOXfK2BCw+36lKPUV17VmGJTCv/L/KZ/EaRbKU8xNc8v8ObrlTSHKHOGL/////nxGabq8E3zH2MVdU+Pf9488vz+NlDvPB7Pz/////jz2OLHDnyD75j6yTgYGB4cv1e4+ZuXk5eLnVhBkYGBgYGPFlBwCDGF1jvlSTPAAAAABJRU5ErkJggg==\"/></td>\n",
              "      <td>apple</td>\n",
              "    </tr>\n",
              "    <tr>\n",
              "      <th>37</th>\n",
              "      <td><img src=\"data:image/png;base64,iVBORw0KGgoAAAANSUhEUgAAABwAAAAcCAAAAABXZoBIAAABYUlEQVR4nJ2TvUtCYRTGn3tTuypKQSC4heggDtESDba0FLn0MTc0FVEQDhEU1BRuEVjQPxBFNEkJDk6BhLVJNJQUFaZ9mAVa13wa7r3hrXsbeqZz3h/P4T3nPa9AmEvUZVd7esom7Yuu5pQ6Z65hMy/7DLs5fITjn87aD6cFAK6jqRd3WzhWh5Q9hdAbUqFAYHNenPCUS7uUHhxVAghPjtnUPrOI3JLkzRCAleJTIR5Cd5EkQc44X5WeK174lSjhCt6RBN87xrWJLGNWjTLtXTIJppHU4NvIhRYmsUaChzihgYbbihRhQR0GWihnIKIFn0bQDRkirJCNoAUyTMtaIUOEB5fmsDOQMIJH8AFk1Fk1aKXf3yDINDZ+obNRrJMg5QFhLv99XD3eiU0FIcWVwfNj2ioObudZKaWW+iRA8Ea2tFchWVj1KddoDS8enNe0KoK68cxl7yV7oEe3RMJf3+ELLeIcN82hCH8AAAAASUVORK5CYII=\"/></td>\n",
              "      <td>apple</td>\n",
              "    </tr>\n",
              "    <tr>\n",
              "      <th>38</th>\n",
              "      <td><img src=\"data:image/png;base64,iVBORw0KGgoAAAANSUhEUgAAABwAAAAcCAAAAABXZoBIAAABZElEQVR4nGP8z4AbMCFzNl4/gyr7HwH+cTMyN7xFEkCW/K/PwMDA1YxD0luCQTacoRLOR7GTXXrJE8Wc9ttYHcT+MzqrR5fhLTYH/U9Q/f+aQ4T1KVZjOX4wiIS+aZbCqjNf7P//V/sRfDQ7GRhEHbCF0OPL9zm+F5pKOc7DCKGZCgwMDOIMvJ4ZpozT0QKhksF17uZJ9iVf/v//E8o0H0XyIVv6P7gzfvkxn0SW7GV8guTobzIOCMmnYbJGyD76P5dhK1yynkXBFkXyj7buH5g/3wubfEOJY+b2y0tg/hR7+x9VksHXtu4H1J+7GeTl/6OCXQy7ocY6aDzURNXJYMBwB2osyyS2zx9RJUUF7sCDbyun7spfEAN7q259+///r3QGIvgOaDJI1l998u5tByQqmBim////nxGaqP/vn7rpDwMDA0Nk346XDAyfzPwZGBgYESn+yfGP//6qOSPZzIgvOwAAjrtthhQjjfoAAAAASUVORK5CYII=\"/></td>\n",
              "      <td>apple</td>\n",
              "    </tr>\n",
              "    <tr>\n",
              "      <th>39</th>\n",
              "      <td><img src=\"data:image/png;base64,iVBORw0KGgoAAAANSUhEUgAAABwAAAAcCAAAAABXZoBIAAABgUlEQVR4nH3STSjDYRwH8O9/b0Uow2iZg7dCXg+U8jLv5aCUZJSTcvBSJKWIxImSg4ObMEvaTUlJIxxMFiUHjJOXA7X/QrH/18Fm23+27/H59Ot5+n0fgQgfFQBsX+uS9TodAMCRpvUryQsBAJDQceecyMQ4/6IC8MK6Gb48nltOnjyNU60ImuRyrHZdIudR/8TAgCTpNELfa13AJf9BStbOeACHfLbbn4NRWi1OEWpt6SVuE4CY/pUrP24koqB/LK6oKSsDI7u7XfHAgOTDnEKzm9xTGlC6T5K8GcGcD7O7SZJLDTWS77bqMh/mmSjPrPKVpAKA5itkq3UeGwAFAM17CJZo97xYanPJUVl54MUetzlkNEn0Yn6q4/8+FQDwERUBc48iYJv9Njy2R0/Jz78VwG/ZnBROZSsqb/zr062v8gSZJ2bUX/YaBsVA3ITFjxyG2lBubSlYPL68f30bUhs/A5Bn0z3NWzsVv89R9blIUpD9eOeDKLrE5lwAgByD8gNLWUwhaq624gAAAABJRU5ErkJggg==\"/></td>\n",
              "      <td>apple</td>\n",
              "    </tr>\n",
              "    <tr>\n",
              "      <th>40</th>\n",
              "      <td><img src=\"data:image/png;base64,iVBORw0KGgoAAAANSUhEUgAAABwAAAAcCAAAAABXZoBIAAABPklEQVR4nGP8z4AbMKHwjh1Dlf2PBL5LxiBz/6NITmc4hl3yx4v//70N/2OVfGrAIOEpyqWkknYBQ/KKnGBXhhmXY1o0H4PdVVTJfQLyV//////3////n6dLcfT9RZLcx2b0DGHY2wgGr69wyR+qup9RHLKA1fYLTHI64yFUV/7fzFIJk6zl/I8OEvn//P//n4mBgeEPC0aoen28Bg1bLJImDGdgkswYkgqicElMnQxCn6GSfzF1/n8kD5WUffEcXfLld5hk5P+l6JIPGRRgke2oje7PCQz3YGG7hGEdqtwHMQ94wP81l/uCIlnGfBkRZSeZ/JFl73FkIKLs///5bPrzX8Lk/vjyvUSW/L9flYHJJHP2mXeff68wY5j5H0Xy//+rnV7iEH/orIAKMaKk+Kfnnn/9ZeLECOUy4ssOANiXqZ0fcwRsAAAAAElFTkSuQmCC\"/></td>\n",
              "      <td>apple</td>\n",
              "    </tr>\n",
              "    <tr>\n",
              "      <th>41</th>\n",
              "      <td><img src=\"data:image/png;base64,iVBORw0KGgoAAAANSUhEUgAAABwAAAAcCAAAAABXZoBIAAABQklEQVR4nGP8z4AbMKFyb25B4f5HAWkiyDw0nW/efMZtrADDQ9ySMgz3kXgsyFLPnksy3HshgdVBLyQZGBgYGHQ6HkMFkCQnsjPbbdq8KoOBUQtd8mcKQ8T9//////8zXZrB7T2K5BtHxvp/MHXTuSw/I0leVuRZh2T7DnanP3DJW3wKl1BCagnDOrikh/Bz1GD8J5INk1zLMPM/GnCzgkr+kjf9iy4Zr/b//38WBgaGow+no4UiAwPnd2jY7uZwQJdj+MoKlTxrxIku9/+wCVTyOx+Gxj0PIqCSv9jQ5f71SPpCo+wXK7pk+a45LNAoM9P5fh/FH10MZfCA38Fky1iJ8On3QoaEv4hYmcDNyKDVcuDs3ZdfP2zJEGAoh8YPJGxfz1rmygy1jy/lKMwMRniKf3X7y6dPXxhNTRDOY8SXHQAYcWD3tKN7kgAAAABJRU5ErkJggg==\"/></td>\n",
              "      <td>apple</td>\n",
              "    </tr>\n",
              "    <tr>\n",
              "      <th>42</th>\n",
              "      <td><img src=\"data:image/png;base64,iVBORw0KGgoAAAANSUhEUgAAABwAAAAcCAAAAABXZoBIAAABRklEQVR4nGP8z4AbMCGxz/94uAZV9j8cLGc1yGK6+R8JIEnGMLCxMGTikPy3WJKBgesNdsn//09y6zE1IPEZIa59MZuNgX33PvlDuatERJVDgniRHVTJwMDAoFP5/P/3eYWxWgxyt5CM/S0V8v/HR7hxJyRckCR3M2xFtvv/VIbDCMl0wV8okj9kPeCSf8Tj/6OCbMn/////Z2JgYGA49DIUa6gyMTAwMKzlc8Yd8HvcOXBLcv/FE2Wyj/FJPkEX/o8k+fIXmuQzcYTkv6doktc14ZIqDFdQ5X7fQUgaCW5Fldz/2whi9f////+nMU+HBNunr///////30P+NyLgfwQzaPVsOtKrxsC/4////1cYe5GTyZ8l9owMDIzOE81Z+t8+d+b7iJaGXl8+cOf//2/BDAwMHEtQ0hASOH+YyVkTwsSURAIAm/dJn31GU7EAAAAASUVORK5CYII=\"/></td>\n",
              "      <td>apple</td>\n",
              "    </tr>\n",
              "    <tr>\n",
              "      <th>43</th>\n",
              "      <td><img src=\"data:image/png;base64,iVBORw0KGgoAAAANSUhEUgAAABwAAAAcCAAAAABXZoBIAAABqUlEQVR4nJ3ST0hUURTH8d97vRklwlJSySYhE2QwolBUEsRNSUVB9IdWISJBYCAFtgja5SxDUCyFDFs1lIuIQYpaDNUqMlB4Dxw3ReoMJmo5TM3Yt8XMqG9GW3Q2l3M+l3sOh2ug7cP8h8lKH29fnD65XkvNTNlT9lywVQBwy6vjb4DUp74rR7ySx1+rx2SwXwNV2tt2qkiquXj36eTvD/sPJbIY0sfVSu2o7x6LAST7vH6bLDoKvpYm00n4eqku/2AdE2YgKPMXwLsW7Wl/BRvIPm+5PH/gy1lVPkpkilkMqNzQc+dlafH9LIElRUNJLZUYUXkuSEfHDm4swYDWsCSZ/nOd32JWW+HmFRHS0OJi/HNvk86v4A4xrCgkgYcF/ogbTUmaPubZ5Wu2r81cSuUs3tBy1/y9+JI9sqyJ/m6XEtndcKADYM1+cqLop7sn45ZuZrKwxnOQB0bjQjr7rsFcpFZVDgBfNZo3bYtWnkmSZlXmHgiYMO+kr14tjOU9S/tOB2BUAfJx1lfhEO+xzqxtgUR8FberzRurbIVEDhfXvScnjP/+8X8B6qiu8D4Aav0AAAAASUVORK5CYII=\"/></td>\n",
              "      <td>apple</td>\n",
              "    </tr>\n",
              "    <tr>\n",
              "      <th>44</th>\n",
              "      <td><img src=\"data:image/png;base64,iVBORw0KGgoAAAANSUhEUgAAABwAAAAcCAAAAABXZoBIAAABVklEQVR4nGP8z4AbMMFZR+fexZD9DwNqDOzH/6MChOR+IQaZD7gk/xczMOTilLzJyMLyCUWSEcm1zvsYzLk5TGJVMF37bdEHRmZG5o8danbzv6C69ks+H4Nu/+v///+/miDL4I9i53kN1vRTUHVfNUyuI0se5FCE+/FvIOteFNfqayJ8WMYwC8UrPxi64XJ7GYrhbCYGBgaG1wxicEdfZfBCDdtzDNvgql9ICvxD0ykKU/su77kzI4rOJQwPoGq/G3H0/0O18xMDD1TpxXPesYyodu5iOAJTnMvEiXAtw/////+/ZpgMF5jPoI9qrIja1PdwkxhcPqMmk5NcDj9hypMZOBQFhbcigu//eqYYuCNPV6UpsVxDkvzfzxB4AC49lz3tP7Lk/25RBo3eG0/e/z7R6cLg8wlV8v/PFU4QHzIZ9kHNQE5DDPfOf/36SdNWEMZnxJcdAG4Gwj5bfIeRAAAAAElFTkSuQmCC\"/></td>\n",
              "      <td>apple</td>\n",
              "    </tr>\n",
              "    <tr>\n",
              "      <th>45</th>\n",
              "      <td><img src=\"data:image/png;base64,iVBORw0KGgoAAAANSUhEUgAAABwAAAAcCAAAAABXZoBIAAABeUlEQVR4nH2TTyjDYRzGn3fGzI/FHBYH3PzLbfkT4rBa5qB2ddtaU3JwkxPKlfxt4iIlpXBaduWilFL+rAwXWZNiChu2x2Hz/n77Gc/lrfdT3+/3+T7vK4i/Zcye+6c2t+UXZUbdgOI5Ya5+4IEiBsqVBx41R35DnlvbLo3j69bGeB7IoME/WIquuzxlSU6ixrybtyfJ1DCG8g9Eko8IkKt9Lt9t9sKQdRQc9868Ahz1xV62Wxao9bllUGpFDwJejKUZdWNFU3axyJHkGuDDFEnSVRFTYX/hNZluRVlniiQZwbyE9yVukjwWReFMl7SYJkkjACy/NQCAfa6yPjOIMCVkKs1oBwCMyDiKkwBgAICrwl5dVsUJCW/qynTQpEIIHfuKm1WoV+jZITfkt6VyFh6rbklKnzs41LKUU7lQ1/duGdawjyFsaCPzmDYli3aLiZw84050BJ5I8nm2yrKnC/tzyZ4dVDjCsoiQL/4s9AWgwNWkOhL/fYdvYNycHRaHmB0AAAAASUVORK5CYII=\"/></td>\n",
              "      <td>apple</td>\n",
              "    </tr>\n",
              "    <tr>\n",
              "      <th>46</th>\n",
              "      <td><img src=\"data:image/png;base64,iVBORw0KGgoAAAANSUhEUgAAABwAAAAcCAAAAABXZoBIAAABZklEQVR4nH2Tv0tCURzFz7uYvUTshdFSKQjSD4ikoTAaglpqswjCpRoag5ZybgmiPSj6BUGDYNAckQ1B9Q8EKURBQSKapfasfKfBHz0fz850Dx/Oved+uVci6kvU2uxuUW9ZowjiOmdIJqHonMUApdOnoYk6244AojFXcYakJ3Zj2ZfrJGd8emcolG755561sHRmIfGNfLcFyCiFrfjX4Jy1eubPuh0AHFM7z87JPtHhgnu7QJIguSoF98Lh4yUvZIHOczI6Cs91Ccal5XK7WBCzaZJktMt6RILcFC/V8vdaeZEZd6QIcthPE13ijAKJ6wBMpEKBwKPmM4MpOI1D+FMSrRBoxKtpssEOsNjXr5kUmneTICNYMYG906UJhbCcN7KM2ChBLSS8FwZ4gFtSIgBcLd61+wecNllpkhXZ1vxwstZ/hcpLUA8XeiR92UCClSQA4Ocjq77nCm+farptzAUA0n/f4Rd3v03nKViWOQAAAABJRU5ErkJggg==\"/></td>\n",
              "      <td>apple</td>\n",
              "    </tr>\n",
              "    <tr>\n",
              "      <th>47</th>\n",
              "      <td><img src=\"data:image/png;base64,iVBORw0KGgoAAAANSUhEUgAAABwAAAAcCAAAAABXZoBIAAABZElEQVR4nHXSPUiCURgF4HNNRaMkpBwaDLQoQlrCQYMKMXAMAiGSJDCkICKCqEnIzaApaAyKBiMimsQpp8qlwaWMJGnKwkDMwczT4N+nfp7lDg/c+17OK4jOUVbP4Nfkcruykj4gTBaiC142UsOA0tb/sasBLDIYh08zjXmtNS+D3IIDw1ZjgnJYXgV0mIFdwoIA8BxOvqYylQmFM1obVhBIr0VUJpPZZFZ3ATi+2j4Qja8s6ULZxl0/m/AU629mVXtsyqFw5Wt4g/tm5LnKmqniTnexBRnpGX2voN3RamRcP1smQRr97cgzhEkFAIH2eMZOAAUw8CbX5dQToADmYjkZLKkBBbD45y23Y7GCE0fXAXkESW6IUOu0mUF3tbLSCvy/TZYa732s97kvXDmJ3RkMD2yUfaGxpOt2qR1JUoKM6XXu00+SzAeF85tNyJf1odqkvmoTQrrxidsCAKXNLlmTjvkHlWOkoNxnuR4AAAAASUVORK5CYII=\"/></td>\n",
              "      <td>apple</td>\n",
              "    </tr>\n",
              "    <tr>\n",
              "      <th>48</th>\n",
              "      <td><img src=\"data:image/png;base64,iVBORw0KGgoAAAANSUhEUgAAABwAAAAcCAAAAABXZoBIAAABUElEQVR4nGP8z4AbMCFzDt9Ek/2PBEyC/6MAFJ3qF/EYq3vvK25JvX9XGdaZamyC8Rmhrv264rZwKIvsrC2bjP88OKOC4qD3mgx8DJJXhGUYJv99JmEBdRBU0ptj7/878qJyDDb///+fwPgSWXIhw6T///8/VGZguvr///+zDGuRJL9xM1z5/////+e+q///////D28RkuQDBtYLyJ53NUMJhDn6yF6yPv8N4U9Ohh8onrf5fRIhKcpzD0XSguUoQpJR+Q6KJLfaNaTgU0GVZFC6iyRpePUxiqQysmQS0zRUybcfEJKSobO/I0syoVCFb5cgSz7iE2BgYIAnE2vFL4gQ+m1oihwr/08xp8Pl/kQybkaR/N/AUPAbKpfEOOU/quT/SgarxbvP3HrxyJOh6z+65P91MhDXcC6GiTAipfj/d99//PDpv4MyTIARX3YAADsWKWSEFGLQAAAAAElFTkSuQmCC\"/></td>\n",
              "      <td>apple</td>\n",
              "    </tr>\n",
              "    <tr>\n",
              "      <th>49</th>\n",
              "      <td><img src=\"data:image/png;base64,iVBORw0KGgoAAAANSUhEUgAAABwAAAAcCAAAAABXZoBIAAABWElEQVR4nGP8z4AbMMFZj2ccw5D9DwNhDMwH/qMChOSnB+q6v3FJ/v+/nWEZbsn/4hmokkzI9pucxuVaBgYG00u9huKet9EkX+YYKCsrO7L+LhEMPW+0EMUr52V5/NPS0lQZGTT//H/hwdCB5KCfskpX/v////9XuND9/////4vmvIuQnMtwEKr0+///////fynojZD01UELmekM6+CSoUZokn8tZD/D/Mn3ET02pj5rgbm2mPcTmtb/yXzfoMaeZ8lGlzzKsBIWthVMh9Ek/ymEwyS/aYhcQJO18oUFPOdufpfzqG76wI1ICY+VWXORY3ovw5T/iPh8U8Totf0XTO6Pgfqv/8iRvYiTYSaMPYdh038kycuqPR/OQIL2/4tcNuf/yJLvAxnkmo78/v//0foiHvb8tyiS//8fc2WBOJQj4QFUiBEpxX8+dPU/g4iRDitMgBFfdgAAZubaohFyMNkAAAAASUVORK5CYII=\"/></td>\n",
              "      <td>apple</td>\n",
              "    </tr>\n",
              "    <tr>\n",
              "      <th>50</th>\n",
              "      <td><img src=\"data:image/png;base64,iVBORw0KGgoAAAANSUhEUgAAABwAAAAcCAAAAABXZoBIAAABRElEQVR4nGP8z4AbMKHxf8/6jsT7jwr6GK4gOGiSr4W8/uOUVGdgYFD4B+Oh2vnkgV0iw/f/WO18HsQ5iUvuBhZjj6cqQ5SLxt+HCjFCzXhcvkLYyVGYi53h2fFlv2qqkY3t5OJp/Q4z42Uo42OEsX+SGaKfIdl9l2EeQrKMsQPFQ58ZJsIlLzEV/keTtDgOk5zM8BpdkoX7FTQQLsuIoIY+p93MX5OhsfKLEy1qmA+G87yGSrL9xojJqR+Sof7MkfyPBj6K+cMCnuPLH1R9PwM/NsJCaCfDChR9fwKZ1yICwcAYWe5fCuPs/wjJBQxzkSRLGLr+I0n+8WddD5drZyj/jyz5/6stQ9wbiMBUxpR/qJL/f7Vw8PhOvPb/igtD6J//aJL//98s0mFgYGAQn/MXYTsjUop/secpTywfkn8Z8WUHAFtDy6pF470aAAAAAElFTkSuQmCC\"/></td>\n",
              "      <td>apple</td>\n",
              "    </tr>\n",
              "    <tr>\n",
              "      <th>51</th>\n",
              "      <td><img src=\"data:image/png;base64,iVBORw0KGgoAAAANSUhEUgAAABwAAAAcCAAAAABXZoBIAAABuElEQVR4nH2TzUtbQRTFzwz50PCUmFY0WBUXiuLWFrEookSxKtSNoFBQav4BsZuKC63Q0kURCiq4aRdmobTgRrAiIgaUFkpTFSMNKuLCdBGIUtF8HRdv3gua2Ls63N/c4cy9dwRxf1jScunAWdpqAwBET0pcAEAj9gSAAm+YyU8dNmhnJNNwE6JrxatVfG9DzaivNnQL/sSIpTkayNM0n5FKwyBml3Lq3srcPTMllNut+KMX4eB6Z/yZd+dfYXeVniVJ+psBaPC9Qe+XQgCoD5rXTqFsbtPXjSrbwDs8/cO/M27noYK7Ob1XJPnVLr85+hIkeersUbClJKIbKIbDcarLCcsZCTJqmVTuXgNjSobENAlyGX7D+/vyc0O6hkkJ/MZjo72vjvMMmbACEriy2rJMJGYHJBDPxhDTK2PWLCycygckIBOpTLggOgGQiwgwI57Uk5RAo1jNKAz96FeN95TF7ha+tIZV+9bx8Q6bx7g5lef27Vtswd6WNGG0+uHnaxNdT0qP3kV92EdNcHkXDyOROA8+VGJQnVQ7lFobeqCMioYN4w5hbnxy/9dl4gJF7W7zQeJ/3+EGF1OIPlsZ9xIAAAAASUVORK5CYII=\"/></td>\n",
              "      <td>apple</td>\n",
              "    </tr>\n",
              "    <tr>\n",
              "      <th>52</th>\n",
              "      <td><img src=\"data:image/png;base64,iVBORw0KGgoAAAANSUhEUgAAABwAAAAcCAAAAABXZoBIAAABP0lEQVR4nGP8z4AbMCGYd1dgyP6Hg2kMy/+jAkYkYw2Zz+DU+X8Rw25UnciSP9X59+OU/P/ciH0Vdjv/nD7/+efiuxG1mhh2fl+rDOFzyb1ANfZjjxsng8HG1/////9/hc/iO4pkIZNxxd4/UJFtzIEfkSWVw5GdMYtN/iaExcTAwMDAwons89STf4J/IsKW5zNKuBgsujIf4VoHd7RAdVD6DbczSfQXquQuhiVwyX0M69C0mpjCJf8qOv5DlcyUgbuWqW5/P2pc/WFFCr4oNpQQ/5+gBjf2//9PDgwFyCZHayFJ/v9bxZD+FyEZYIQs+f9/K0MiLHj//xFORZX838Po+wjKPMywEU3y/xw+rpbX7959+P+/hPMruuT/Z7GMUK/E/v//HzVpMjAwnD7PwPDxHwNLCj8DAwMDI77sAAC4KuFc7DE4PwAAAABJRU5ErkJggg==\"/></td>\n",
              "      <td>apple</td>\n",
              "    </tr>\n",
              "    <tr>\n",
              "      <th>53</th>\n",
              "      <td><img src=\"data:image/png;base64,iVBORw0KGgoAAAANSUhEUgAAABwAAAAcCAAAAABXZoBIAAABNUlEQVR4nGP8z4AbMKFyV91G4f5HBk8YIpC5qDqlZNhxG8so9hWPnbxf8EjyEC/JAqUfLNjz5LuY8su3/5CUM0ICYV4qs4Mcz8srVxiEXZpV4bL///////8Vp/eL//////+/xi9DlHcpzJ8QyVame3Cfv/JgiP2CLKniihQuf1tZdD8hJD8xyP9FDra9TM0IyXMMDLtQwjiS/x08bH8yMMxF8W7+x6PwQLBYl7zhHbIkN8M/hFf+32CchGzsJYZNSFGmbrEaWedZBlXksLW8gJxeNitpIEvqfX6AkPu12w8lVvQYLiEkD372Rgrb//9/sDYi3OMu+hMp+P7//2+rD5dbyzD9P6rkYoYjX969vnv3wgRrJss/aJI/RGExbNYDjZT/jHAfHDjJwsvAy8JiJI+eErADAP9RLpchsbhmAAAAAElFTkSuQmCC\"/></td>\n",
              "      <td>apple</td>\n",
              "    </tr>\n",
              "    <tr>\n",
              "      <th>54</th>\n",
              "      <td><img src=\"data:image/png;base64,iVBORw0KGgoAAAANSUhEUgAAABwAAAAcCAAAAABXZoBIAAABgklEQVR4nLWSSyhEcRTGv/t3NTPyGBak8X6ENHmvJAplisJkwUYKU3ayUBRlYaVkZaNIoaZQipKlRHksUB555ZENhjLMZOZ+Fvc20VzKwrc6/X/1nf8535GInyV+YX+A/s58a69n1pbaqDXjF52htA55MAuckCS/wQvMuQBhSjM8kSRV2/fl/tp2pyLj4xayVbkscCoB24MsGIsTUbiLgXgAIdZM1Lg025WwpFUvlYWYeLQZYRnzktOmBhW+JpQ8kCSPUgC53E+SHMcUCXJA7Ggfurf3VaxpdZ6NBBnbcsFgdUf6CDI0V9oKhovYJqjEod4fDO8wQYFLb/GMzobD8Q6BtWdnmM7SDfBC4BUWvURk+CBggFsPXsMCgRzs68FjZAN0Rzl0xmRz9BtBdhk3g9lpyCAJ0pUTPa+++Jd6ztVqz2p+VFO5KUOHm3wZTYcwDXl4NZwL84YWGX1DckJTc4RUtXTfKiWXSKJy8oUMnMmWvSjDcUiS6/bqkVutsfQ/R/0J4R9SwWq9/toAAAAASUVORK5CYII=\"/></td>\n",
              "      <td>apple</td>\n",
              "    </tr>\n",
              "    <tr>\n",
              "      <th>55</th>\n",
              "      <td><img src=\"data:image/png;base64,iVBORw0KGgoAAAANSUhEUgAAABwAAAAcCAAAAABXZoBIAAABLklEQVR4nGP8z4AbMGEVfTH7LwMDAwMjhs5/d86dnfvnnggDAwPDf1Twd6EMAwNP4L3//////48m+dScwW7Zjb9QHqrkF2XBNUhcVMkuxuP/cUl+EQv4j1NyA8NhFEkUf/5jEMYdCGwMv3FLsjL8Qg0QhPe3h6ozmLrUY3PQCRUG6QANJ3mx75iS29k1Nv75////IaYyDMlnouafIKw85uNokv/c+O5CBb6qyD9EldzIsBCu/IqI2nMUySC5v3DJ/2f4YpElP7BVIYdaAfcnpOD7/UsG2esBX48jhZCI5Oo/SJIvGWSRQ2gpY9ALhLEZXL9R/DmdS2AqzE2HWAvQQuieN4PJhNO//z9blcel9wFN8v//tboQe/jD38GEkNPt62M3GPisdRCxiJmokQAAo9HIBJA2CtQAAAAASUVORK5CYII=\"/></td>\n",
              "      <td>apple</td>\n",
              "    </tr>\n",
              "    <tr>\n",
              "      <th>56</th>\n",
              "      <td><img src=\"data:image/png;base64,iVBORw0KGgoAAAANSUhEUgAAABwAAAAcCAAAAABXZoBIAAABY0lEQVR4nLXSTSjDcRzH8e/8t3lIFpK5TK2Q4iAnkwMHDg52Ia2GgzhxsJSHWrRcHFBKlBx2UE6eSjhwoBw4WsrsMo3yVJRmaXs77On/91QOvrfv79Xv1/f76adDfq6MX+wPOFfTqVXStSaN3nR3EEaNzdXRdOOSRTW+ZY3xeHYXb+al9y6BV6Pdjql98fQYJGcaYEvpiIIAL04lu6JSL4rJOLLrkGF4LrSFAYFAlXHiHl77RQYh5hIvbsUHILxbio8BOHGPTgKx5rzTvC7iuCc7aOq20GwIAKAXv9RrN199osWaSCgsisYi4+06WzI+m2xrMPNmiaIk1pV5tc/mP4opla1HH9JONGTwk5iWYE5rTG2XxgFSyIq0BVVoz39QIQum3JnU5UOZRY2EOsT+Ej+I1pRHtAhLxooLAJZlk8/IUXHBRhSuS5r4ilzXitnZZynwfYdE1rtKrQ3nqrl1//OpPwAM0Y29oPQT4AAAAABJRU5ErkJggg==\"/></td>\n",
              "      <td>apple</td>\n",
              "    </tr>\n",
              "    <tr>\n",
              "      <th>57</th>\n",
              "      <td><img src=\"data:image/png;base64,iVBORw0KGgoAAAANSUhEUgAAABwAAAAcCAAAAABXZoBIAAABKUlEQVR4nGP8z4AbMCFzvs3+gyr7HwmcZViFzP2PolOP4T5uY78wcOCWPM+gj1vyEYMybklmhn84JO88/feZ4StWr1y2ZmAQ02OQXo3sFajkFS7JGQt9ZBn0GZK+okv+MZd68////1d5n1tZtC6jSc5n2AATOCzLOQtVMlUWYdYbP4YqFEkbNyRn/CtgWIAsKZyH7Mi/LpLfEZIvGaajxMYxhjmIWLnBoInid0utjYgQ+svAihoyHvt+wiUlGF6iSrp+PQ2XFGd4jir5joEfEbaKvigO+mek9Q/hlTaGln9IkhMZViD58186g/0NuDdnMUf8Q5L8/3+xKHv4tGvv3v36v1WfwfPHfxTJ/28KVKCu0VwLs4IRKcU/PfT57ycG+VBmmAAjvuwAAGd4YrISGw3BAAAAAElFTkSuQmCC\"/></td>\n",
              "      <td>apple</td>\n",
              "    </tr>\n",
              "    <tr>\n",
              "      <th>58</th>\n",
              "      <td><img src=\"data:image/png;base64,iVBORw0KGgoAAAANSUhEUgAAABwAAAAcCAAAAABXZoBIAAAAt0lEQVR4nGP8z4AbMOGRGzaSU14wMPzHBh7f/P9TYM5/rJJ/LN3+///4F4vkrenBQgwL//////8/4/9vx/8zMPEz3FrAqff97ds3jx8zqDv7uzEwMDAwMP6fnQZ3A7+YsLC4rYsMjM/4/8+Vvwyf/zAs137dIdiaiepiuF1TGBgZGLpRrEdIGtv+fhPHfBpZEhEI3F/fCtf/24Hd2GVMjKwMHPuQdTIiksnNHR95g+WQNTKOkDQEAEXmtqbpxXKKAAAAAElFTkSuQmCC\"/></td>\n",
              "      <td>apple</td>\n",
              "    </tr>\n",
              "    <tr>\n",
              "      <th>59</th>\n",
              "      <td><img src=\"data:image/png;base64,iVBORw0KGgoAAAANSUhEUgAAABwAAAAcCAAAAABXZoBIAAABZUlEQVR4nH3TQSiDYRgH8Of79s3nM40Uk4uWlCPbDotysCJTDhOHncxlHLC4ScoJZ4lkBwc52VF2kJQ7janVRI1oK5sdbOTb32G8e79X85ze+tX7/p+n55VA1UvmzvrhraCo1C6pm+CLR6djnPar4Dut614txyH3JkiV/YVclUBERLTt8uwU/6JmjdMHbTTmZ7wFY9r0pNPtInuHqa+EiHmixAdK2LSxYU1xWygEYItWOSw6WhNA1lmnqHcAEDTdV3BZjgLA89RSHADwYlpj+Nnsh7F6+1mfx5mA0JD7mrVyYhsQUDczTHaJsyjWMnywi3N6bGCYtgn2FPUxhHjrHgLCbLk44ZF2IiKFiKglacSVVLh8AID5+jw/gQMpxG1CTFng7Fwb+uLXZM58BgBXR5lCbFrtyRp2KN9tjbymgjIRkWX27fcOqbzUac8NUc2i76LUNtjEgv0g6aeXymin0JL033f4BpgAOc/XSs6NAAAAAElFTkSuQmCC\"/></td>\n",
              "      <td>apple</td>\n",
              "    </tr>\n",
              "    <tr>\n",
              "      <th>60</th>\n",
              "      <td><img src=\"data:image/png;base64,iVBORw0KGgoAAAANSUhEUgAAABwAAAAcCAAAAABXZoBIAAABQUlEQVR4nGP8z4AbMEHpJ78ZGN4sRJf9DwEief//L2B49R8FwHQmTDvJwMHwBbvOj2rcSzczXEHVCZP8/8aBQZfhJA7J//8WcjLswyX5/38AQw12BzEwfD/iwnACq4NeV6g5MjAwsGnbhc7/BdfJ+J+BgYHhtNeH+DcGYYcOMb15cFO+PhFFp7XSLbjyvQ4Mfq+QHSRQjOyOmdxyH5EdxIzsjLSDT7sRxv5ir0P1QyL3c7ixxxm2oEo+YOqGG3uYyRrVf/KqF+DxeU5dAM33X/jhkn840eQ+vxWGS2KAor8BOCU3zak1gnslxAjFrffFzX8jAkH48VskfVuM/y1mQQTCSW6ZSV+h2t7EMlg8RInsi64MIhlLrv9+/2CZOEfb7/8okv//n40VhZhkcwNhOSMixd+4/ICHX8wJyf2M+LIDADV7cvbsgpxYAAAAAElFTkSuQmCC\"/></td>\n",
              "      <td>apple</td>\n",
              "    </tr>\n",
              "    <tr>\n",
              "      <th>61</th>\n",
              "      <td><img src=\"data:image/png;base64,iVBORw0KGgoAAAANSUhEUgAAABwAAAAcCAAAAABXZoBIAAABWklEQVR4nGP8z4AbMOGRI0byb2DMbWyy////////BTMD6+L/GAAi+X8FO4PUd1yS//fyMazBkIQ5yGkaw3sMK1lgDE2Gj8df8AsIiHOjO+j///9vYc533/AHJgbR+WvT4qcMFnWKHz58vDM/QC49WRym83GcihiDSmjqS4jyv9t9mdkiL0BdG80dn1byC9mVDyrFOFf8//+f4f9TtgpM739wY1z4/z/D/3kMdzAl///25H/yn4nhC4MYllBlmflxGQMTww8GDmxhLsb4j4GJgQtL0DAwMJz+b8jA8P8Gc+hfLJa2snz6z/D//wyGHEy5t1KOkFipZ2hFl/viy3EVGmVpjDGTD7969wMud0GDZe5/qOSfHDkGBgYG7qRj//////9rXwy7wrH/////Z4QmzXfn7/2/uvi9jibDx2NfRBKqBRgYGBgYkdPtj7VLXzGwW7g4sUP4jLRJ1ADd61KcOaZaggAAAABJRU5ErkJggg==\"/></td>\n",
              "      <td>apple</td>\n",
              "    </tr>\n",
              "    <tr>\n",
              "      <th>62</th>\n",
              "      <td><img src=\"data:image/png;base64,iVBORw0KGgoAAAANSUhEUgAAABwAAAAcCAAAAABXZoBIAAABmElEQVR4nH3TTSgEcRgG8GfsbmFTLBEpZX2sjxxEactXieSAk3Jw4YJcHF02SS6KcPB18FGSaAtFZKUoOUhZB2zESou2XMxmMY/DzO7MrI/39vbr/c/M8/5HIP6uqIj+fvJQVDvqypUIGEdDnVE352m2HvhO7L9OPtoStm40fQil3Q57EgAg3+GOwLMcpNT1WCpcu5N1JpR4tHiZbF0N0o0FkvTPpibuqfiel37rO+AYnuQJb7FpKYxDgotDMeI0fKRIkm9VKQEFveZWcg/zOzjmVIJEkkeYUXBE8JLBatMwnGvxZfLJdpuCjQUkKdYjrgjlXhkdxg8S5JelmyQZXO5qGP9UPrEtS46PbxYAgKmlRQ3yOlveisF28XNbVznKygrPf5jHn6sEPxJ1x4jqjn1R3vbBMBhhpzFd4YRqsz919pxh9YdxAxNaC1bEudXgpSaDU4OdglO7skBl9HaIpAH0U4t8LTUMfJGkuFmDdkmPDHSgpG9lqsmMpMXw+eoFmzMDyOrd/1AfLqg3/nU9MzNNl5Pw3+/wDbL2z+U2WpyGAAAAAElFTkSuQmCC\"/></td>\n",
              "      <td>apple</td>\n",
              "    </tr>\n",
              "    <tr>\n",
              "      <th>63</th>\n",
              "      <td><img src=\"data:image/png;base64,iVBORw0KGgoAAAANSUhEUgAAABwAAAAcCAAAAABXZoBIAAABQklEQVR4nGP8z4AbsCCYj/Z9yODAIXnD5Cunwg2OMCkk2f8wYM5gKcXAwNDyHwEQkuIMTAyypx78RZJkgpnwipnhH4PtKwkmBkxjPyoyiHtosTPwp73BMPajBceMv////9mfySGxHl3ShmMnVOC6BUMFquRTholw5X+ymM6gSO5jOIKw6ZuCyV9kyekMr5F8sIphJbJXbgqLIHkgVGEThAGRvKWGEqb2B5Elv/GiSNo9uY8kiQbsGQ7illTmvo0siRbl4i+RJIVfo0qKvUKSVHiIKvkX2bVy7z+hSN5WQ5KUZ3iELHftgwbUKf////9/nmErUvD9DxJ8ixS27xiSviHkTjB2QxiMEE9kzVDwEhYRFhEVEX5/puXlLQ4kY///P+4kzQ6zkgsaKTCdDAwMDAxf3rx6+/YNl6kOK1SAEV92AAAkASfZISuruQAAAABJRU5ErkJggg==\"/></td>\n",
              "      <td>apple</td>\n",
              "    </tr>\n",
              "    <tr>\n",
              "      <th>64</th>\n",
              "      <td><img src=\"data:image/png;base64,iVBORw0KGgoAAAANSUhEUgAAABwAAAAcCAAAAABXZoBIAAABhElEQVR4nHWSXShDYRjH/+fdHCzfy0eWWmm7cjG7kWKm3SBX5qtIu5gUk5TkxpUbkSYluXfrxp1ILBcjpZRNzWJLzdwwxjrrzOPiHB/HOftfve/z6336v8/z5wj5pVdVksEnLyefSamX2QIYX+ULp2z77Az3vZS1e0o1Xr63GgK7FjO80lUJezm91eUydic02p4450oid6J93K5hqN8kKBqxv3YSzbzCngIWZ/IPYSMgVgFmW9uo3IAjAMn5a6DQcHsPT+1n5DJm9ff8wP2RTDcT3wAheOgAcDxzNbDDS24/TPaocoain7lFaQh+7oz+axvLEhxsUjGi0aIbIgZkDepNYt2wCjBA4DWg0ZwCGJDVaUDwAsAA29mTFswCDJgWN+WC4Lv+gTkCQERDlfI/J+H+dpspXpCWHaspXzq4CJ13waIPy3ARp3ISosMMAKq3Husbk0REtMd8v0mIJ1PpnKsClx26ic6GurWVliMeqmiGxngA3FRalSEAQCryELc5fveZT18zrEAVM3nuwgAAAABJRU5ErkJggg==\"/></td>\n",
              "      <td>apple</td>\n",
              "    </tr>\n",
              "    <tr>\n",
              "      <th>65</th>\n",
              "      <td><img src=\"data:image/png;base64,iVBORw0KGgoAAAANSUhEUgAAABwAAAAcCAAAAABXZoBIAAABJklEQVR4nGP8z4AbMKFyP8xDUfwfBaxieIDEQ9PJyfD56C5cOvcxzGaUw6WTh+HQ/2+4HMTD8I7hJ27Jjww/4DwWJNsvHblqwnWB4fd1TQwHXbJkYOBj4GZgYJB5DBWCS17lkZr//P9CDwZmDkG7v6iSX7VlXv3/////f9nQbysYVqJKtjMdhjBuvf3/T8UHRfKfnA9SUASZoATCjUeRSB76yI/iz6MM1kiSHwRQJE9LyiNJfkLV+UwBOZzeo+p8L4QsiWbnD2YkuZe/xVEkzfe/QkheYdBGCdv77DkIb05keI8aQoXMPXBJfxW0gP8RyxD9DWoKSwN6rPzvZzGad/Hd1x+rFIWeYEj+3yMLcYXGJZgII3Iifnj2zee/FraMMD4jvuwAAJh2P3r6f4n+AAAAAElFTkSuQmCC\"/></td>\n",
              "      <td>apple</td>\n",
              "    </tr>\n",
              "    <tr>\n",
              "      <th>66</th>\n",
              "      <td><img src=\"data:image/png;base64,iVBORw0KGgoAAAANSUhEUgAAABwAAAAcCAAAAABXZoBIAAABmUlEQVR4nH2TOyxDYRTH//feuqKl1UoZiAgqEgZaBlYWapCQGETSWDwGCQMDJmGxSFGD1yjSEK94DQYiTYSITSRe6SQRlfR6JMrfUGm+3uJM33d+OY/v/M8nEX+bIcHzdXwvNxqjZ+rstBiA/YgkqYfXVsfq3UlZ+a9wEjcktSBJMq7mwb7F5s4BYDIl1FxSUmTYPOcxhwAfCjDyvtNhk9peE2CozOz/JBkeNbi/dFCrMh6SZGCRc5jXwWZ1J0SyDypZZwnGwXVMDKq1W17AVLQbTB4W4UtexToa0J8GA+BjQbsIe5Uzj5yPRvSkJs+EWOUmScoAgLCvy+lKz5BV5Gp9nemwPAtDWEOAJJOGtldcGklHq5C22xohySxvtMirMibM9qZEAYCr1Gi2y89SQewPFQBg/hFgT3YCAKINfSSJ4kR89dlipFmE/uAChEiERegtrYHwlHHpjCQfnRckA5iNk0zLrLwmuYxp8q3artNzw2b09A8UInP3qUXZ1G/CQ1uO1ZrldwCYiukvxW98ZPW2sCl2k/77Dt95aot31r552QAAAABJRU5ErkJggg==\"/></td>\n",
              "      <td>apple</td>\n",
              "    </tr>\n",
              "    <tr>\n",
              "      <th>67</th>\n",
              "      <td><img src=\"data:image/png;base64,iVBORw0KGgoAAAANSUhEUgAAABwAAAAcCAAAAABXZoBIAAABJ0lEQVR4nGP8z4AbMKELfN4/+SOc8x8FfA5mYmA7AeMhSz5Z8deKrf7gl//YJBczGDHMQzYHxdgFnAyKX5D4LMiOcfwdpc6BLICss5rtGYrzGJH9acO1C5c/P2tdkkf1M5LOK1afGcwSJaRNMe18mMjMwc4gxsDAUIHhlQ+83NUf7odee3ytgGEzuuRmhkNQ1h91M3TJcs6fMKGFDDvRJK0d4Tb9UbWEsqBe+XnGCu5E5tTjH1D9+ZcL4QFmBk4USXblqwjJjxzsqDp1LiMkzwqjBUI92y+EayejuXY1w1Uoazu/6z80yesMiyGhGMig9xQ9EP5paTz7//9nGxdf/2+MsP1/VED64A51xmjk6EakhJvqDAza+/8jA6T4/LzpdzQrrsjGBADmyppVAJtDIgAAAABJRU5ErkJggg==\"/></td>\n",
              "      <td>apple</td>\n",
              "    </tr>\n",
              "    <tr>\n",
              "      <th>68</th>\n",
              "      <td><img src=\"data:image/png;base64,iVBORw0KGgoAAAANSUhEUgAAABwAAAAcCAAAAABXZoBIAAABY0lEQVR4nM2STSjDcRzGn99//23Ky2K1OM0WsRjKbV6S18iBEqWUAxdctDgoB47Ky0mUhCMOFFJKlkyy5eCweSuUtsJkmT8Wj4OVl+Kk+ByfTz2H5/sVxPdIP7j/J+WvAUfmvDp9QoKhuhwgFecRyfO6W5LkGArtFmtyih5LlIBaW6qpxemdPwSO3bse5Ls8KWcD07gBeCK6J4vVohTrgeZItcVV4TRnhQkOw3+kTdcDPUmavrWhAnRCyGiQtklwEEpH3OVjPGBZ3S+BoTfcnxsVp24jCY7CZ80m10wyANTck6Qbqh6S4DLqkUeSvs0ZewbSJh5I5iTpFBK80+qNc4zwsmgDAGhEdJAURPu4WCl7X2Fri1AWTvdMAMgrs0qe5SdCxiqSBEl/jiSKmjbe3WmptEOSggCCXVNPgCXTqLoLPwdx7YgZbQQA8fZDIW/gwHFwQXUMYmVNZWsiPsjfPvZfyFeSzr7xyy/+NgAAAABJRU5ErkJggg==\"/></td>\n",
              "      <td>apple</td>\n",
              "    </tr>\n",
              "    <tr>\n",
              "      <th>69</th>\n",
              "      <td><img src=\"data:image/png;base64,iVBORw0KGgoAAAANSUhEUgAAABwAAAAcCAAAAABXZoBIAAABUUlEQVR4nGP8z4AbMCFzTh1Gk/0PARff////39vhPwqA6vxrrDLtD8MXDqzGMku8yzba940Lu52pzH2/XZ6z3Lt3794vDDtfiHLyQEUkev9ABWGSjxwYmOXZeFeuWrXUn8HyNorkLXmhKT//X2v8///////rxaXuIUl+UJa6guSFm+LKz+CS/4I4zqJ48LyA7meY5CSG6ai+/3+QqQkq+VfW+z86CJWEhtDhxykYYW75/BskEJYLeGJI8jJ8gUiuDWLHkPzOwAmRfKeIIcfwDSbJ+gdT8jsbC0SS7ScWSU5orLD+xpQ8pACNFXOdv+je3M8wDxoI6xhWoUu6yfyESv4zVPqIKreIYQI84E+zRSFL/ZrL6vUbEWU9DFPvPlhbZMm98uTutc1SDPZfkOLznzuSQ5n890GNYISk+M/7fn0RuMPPy80twCskAlPGiC87AAC082A0odWOUAAAAABJRU5ErkJggg==\"/></td>\n",
              "      <td>apple</td>\n",
              "    </tr>\n",
              "    <tr>\n",
              "      <th>70</th>\n",
              "      <td><img src=\"data:image/png;base64,iVBORw0KGgoAAAANSUhEUgAAABwAAAAcCAAAAABXZoBIAAABZ0lEQVR4nJ3SPUhCURQH8L/P0sK0sBaRQCgNhBASgtrSiBqCIppbcmjJJZeWBqfa+qKGQCKxkMa2WnIo0SDIIKohAiuLKJOUEH3/hvdU/Mihs9xz+XEOl3OPgvg7hDpWhWKyDm5318FEOhovXhrk83MpkU2jZ/n6p994pS8oSZIRU5PdPuRstE1qtjC/uZclSUq4qjJfkuSpWtk+DgCWQ1HG5BSmv6QOXgCtoeRxHwbOSJCxLvUG5cgaMfpBMu83qZ4IpkymKIsRMNxKySPWCfoQZo14wQ4FvMNWa3RhWAAeIVSr0mHOE8xoFmpYTLFGgpywiNU4q0uRIIPYr35Os1sagjjY+V1hOYf2QZ7QhdJVgYs4oIz0IlBW54GbRcwPa+9KlhyDJ19Cvhp6MwW7t6p9cir/54kw8kaSPHe1GCMsRwY0+pnd4IoVbXPPrETeuAyA4PQX25NUlJZajOd0HWXDV/x7438BcMyp11StfUMAAAAASUVORK5CYII=\"/></td>\n",
              "      <td>apple</td>\n",
              "    </tr>\n",
              "    <tr>\n",
              "      <th>71</th>\n",
              "      <td><img src=\"data:image/png;base64,iVBORw0KGgoAAAANSUhEUgAAABwAAAAcCAAAAABXZoBIAAABW0lEQVR4nGP8z4AbMKHwTm9Dlf2PAF8LmWXfIPH/IyQvpoowMDAwtGCR/OnJwB7Y6ig67SqSJMzOfzzdV3I42DmuWRvM/YVu57+FKgwMDAxM7EmWDJqXUY397sXgMOnQe2WGmf//75bjPoos+SeIee7/////t8n/+P///xsdiSdIkmUMs5C9cFvQ4g9c8g1X+n8UsJZhJVyylek2quQ/DR+Y5B8pv/9ooIDvN1TyAsMadMlNDMehgXCRwRA9PiwZzkBj5RcDF7rkDwY+qKQ6ww10yRcMElBJDYbr6JKvGEShkqJaK9El7zJIwQJ+CsMFNNfqWcED4TN/IqrcDoZViLCtYpyALPfXXuE3QvJPLGPdJ6TwYVj8HyH5/08ao2Dlcwj7ZzxD9X9kyf//L8aystk1Hnn3c7E+U/d/NMn//x8127AyMDAwGGyFiTCipPgvhx59tLSDcxnxZQcA7D+1yLUyuK8AAAAASUVORK5CYII=\"/></td>\n",
              "      <td>apple</td>\n",
              "    </tr>\n",
              "    <tr>\n",
              "      <th>72</th>\n",
              "      <td><img src=\"data:image/png;base64,iVBORw0KGgoAAAANSUhEUgAAABwAAAAcCAAAAABXZoBIAAABfElEQVR4nH3TSyhEURgH8P+9pjtMM4MFipLHwoLF1DQ1kkI0YoGFx6w8ys7SEGvltRBLpQhZ2VjII+W5YMVKEdJshqnrlWFw79/izrgz9+Lszvc75+s73zlHIP4eFlMkuh6ORAvbAABMHvJgNgCUkiSN2CD59+Sn2CSOz+M+34LKRcwmrIxji1juQpVcUKkmoKBVe+Kd6Mdyj+dozXlBWL0l0AsKZudFSE7CmqJF8w/1tAPSAUmqdTWjO/eyfDNf5riK40tGp6HokL07jjM4NSADlkcNleJao3ERt6QFwMbVtKmJEj4AEcB2ev0v+KnhfkWKCcUYqmde823t2ooAEYgomSZ7X2m2awibCafu+rT2XWPFeJCQ00+SIvBm2ql0fY0BgAVIxZMBA5tL+dDSKo625KRzGNIvexyD4QTblZoUHdVeQapvbe3Qur+a5nqhjuTlsMftdjS+Bo/X2oXqByYhSXIEAOAci/5EBP3Ff22dZ+XkFtr1qoX/vsM3R5t8KENRS1sAAAAASUVORK5CYII=\"/></td>\n",
              "      <td>apple</td>\n",
              "    </tr>\n",
              "    <tr>\n",
              "      <th>73</th>\n",
              "      <td><img src=\"data:image/png;base64,iVBORw0KGgoAAAANSUhEUgAAABwAAAAcCAAAAABXZoBIAAABO0lEQVR4nGP8z4AbMKFyN91G4f5HASJlyDxUnf/e8+M29tPfA67aDzAlv/9jYGB4y7D/w7Wj6JLP/fiZ+RWyNzDknWC/BpdkgVCpR8t5PjxZ8IPhr/NPdTTXXmbs+f////8PPfwM7Em/4a6FSJZwf4Bwv9dpMqhM/Yoiqe0LV/1vsz2D6G4kyYcMU5H9ftqEdQ5CcgnDTZRw+uLPeBceQn8YuFHCgrv7/1G4P9kZfqKGvzLjU7gkG8NvVMkf/7mQJNF0fmNASGIY+42BE58kss6vqJJXGJTgkrrcu1AlDwvqIgI+ROobciD8UvZFCtvjjE3IklMZdiNJ/o/hfgKXetzB5YUcK/8fc0f/frdBVtYnO9qaicn3HYrk/xYGBgYG01QTCS3H9ocwMxihKf7/0qcCXFHMqI5mxJcdACsPL03VTkaBAAAAAElFTkSuQmCC\"/></td>\n",
              "      <td>apple</td>\n",
              "    </tr>\n",
              "    <tr>\n",
              "      <th>74</th>\n",
              "      <td><img src=\"data:image/png;base64,iVBORw0KGgoAAAANSUhEUgAAABwAAAAcCAAAAABXZoBIAAABNUlEQVR4nGP8z4AbMKFy/87+isz9jwLuMaxG4qHplGJ8gNtYdrFHuI39byDGwKByCcphRHOt5OtqrpksNxkxdf48ucOR0/zWKobDED6S5L8GEQYGBgYGzw0MG9Al/8QxRG49e9uUgYFB6zO6ZBtj3//////v6BaTf/YfTfKjUBiUtZZhIbpkExPMA/9tpb+gSn6Aa/z//xRjM6pkBNtVhLujeN8iS15mbEPy71qGa////4cHfD9PFlIwvWMQQQ74zZH8yJKMAkiSf94oIQfwWz5WJMn3/4VRJIWQ4/MtA7Lkz21GyJLCzFeRJJc8L0SJbB+Ba4gY0LREDb5nsspvoCI/Ixm3oYXteR7VVa9/v3t8Z5os49T/aJL/T2hD7XE+DLcAkYb+njv1jZ+TQ9UA4TL0BIYCAIU5fASSrdxBAAAAAElFTkSuQmCC\"/></td>\n",
              "      <td>apple</td>\n",
              "    </tr>\n",
              "    <tr>\n",
              "      <th>75</th>\n",
              "      <td><img src=\"data:image/png;base64,iVBORw0KGgoAAAANSUhEUgAAABwAAAAcCAAAAABXZoBIAAABcUlEQVR4nHWSP0hCYRTFz/ekJByk/xZSURBCUZNLSRK2FjQE4dBgW4tISNRaEBJENQhCQkFDBS01hTRpi1DkUEYEBdFfKAkr7Fmehmfq8+kZ74/73e+ecwVRXlKpYjIUSAOAKO58PI5Ezn4Nl2YAoEq3I4CxGz33JEkVlH0G42LU31J/Qy2cxPjDjhn2U2phosrNoDQQzhUK4TZOg9KozJJwF/MqRpC8czbBpM8tY7L7LhQoCLkt+VljEw/Xb9B56pB5ikYzvat2Zc8jBLBOMjUmLErHc9AiXBkSZAj7/cpia/7/ad/TOCFBxnBAjeLYIyWgEc9a72VUAhJQJ72Uh7raEjCNCiXPhhLPhkWrEtmgQ/OfVPNw1iG3IVEMvYhk4blYLmKb8OSMd3SkVeyry5pP5VC4C8PIOHWhPKQX7Rs/JH/nJhZmpkawwgLIoz4MXb1/uNAsqs2ds1RBcksPAEuq2fm7jcdeZatN5YTmqAv1B714t5MDpju5AAAAAElFTkSuQmCC\"/></td>\n",
              "      <td>apple</td>\n",
              "    </tr>\n",
              "    <tr>\n",
              "      <th>76</th>\n",
              "      <td><img src=\"data:image/png;base64,iVBORw0KGgoAAAANSUhEUgAAABwAAAAcCAAAAABXZoBIAAABjUlEQVR4nH2TSyjEURTGvzv/SYyhJmZhPFJeoQmLoTwjDEl5JZIVCykSarKY1SyUjbKYKUqasvTaSZRkQykkFkqThQWNR+NRM8ZnMXdM83I293Z/9373O/ecK4j4oYqzfrEBAAyLqq3A6NYXk4w4eXINADgyPrXFk73pTEZdDEgAnr5kCwqiYaYL8A3ebbtFXrSh9kp6e1VODueQZAS0aLyDws437XgMuIABYSeXcBkDzkO1TB5rzIwBbWKTvNAZn0mSamnzdNWtz5nU+NXdnvlFw65OJkaSvhlFX56tlN9bEyeThMF8wJCsr1/MfpCH6aY5tdJkbs1PcIbgjHCQJDdRjRGS7x1iIwjPlSnppy1ROSZJb4P2UsKxVI+EnwcPgcmjoUvCwgFGxVARA/X0pURXTfcSv02e9kplnmU1kaK3+dp9eecarGHIv5KWcfaX5wRs/iD5uXJUoMUVeoSfUZhOvp/Xc5uaG9OAkh25UQSaemvaBSCpSo2C2vqsoC0J8eV8TU3p0YR7Fv99h19JSYPnA5yb/AAAAABJRU5ErkJggg==\"/></td>\n",
              "      <td>apple</td>\n",
              "    </tr>\n",
              "    <tr>\n",
              "      <th>77</th>\n",
              "      <td><img src=\"data:image/png;base64,iVBORw0KGgoAAAANSUhEUgAAABwAAAAcCAAAAABXZoBIAAABSElEQVR4nGP8z4AbMKHw/q9c9AuFjwyesjLsQ+KiSv6fxPAciYdqLMN1CQmcdjJ8FMbtIIY/LFglP196x8DA8BeL5OtycyF9YZHp//+wPHmA8AzjfwYGBgaXI3b2uk+3bfH5ceznX0YJGecSYbg/fzA0/v//////mYxMAjVLOnO9WN0Q/vzF2AnxWIXZof//////XyCAFAjyiShB8c9E4///////Q1xncAHFQ/vPrEByrcFVlPDeyRWAJKn/6waKTit2ZJ0MyOZ+POeIHAgKAsiSu/9CJaFRZm+NcOtXZZ0/KPE5mWEGXLKI+QRqZP8LZoeJnGAuQk8JnzT4Wr/+/////38Xpa8YyeRJFGPU/////yzkzv+PIfn/f4KklZKSOIP1DbgIUuQaLXjuJMwW6Y3kKYTOu+IM91HCHyVpPl2AKvefEV92AAC29GlHFaZxgQAAAABJRU5ErkJggg==\"/></td>\n",
              "      <td>apple</td>\n",
              "    </tr>\n",
              "    <tr>\n",
              "      <th>78</th>\n",
              "      <td><img src=\"data:image/png;base64,iVBORw0KGgoAAAANSUhEUgAAABwAAAAcCAAAAABXZoBIAAABP0lEQVR4nGP8z4AbMKFyVz5B4f5HBl+YJiBzUXXe+6eA29i7DMq4Je8wKuKWvCfBjcxlgbPebPrD+1EIRS0jzJ+7Ep4zMMj98P0rrBLHheqVO3qMxhffVTIwKKgKMsgu/QcRhUh+0RWf9vP//3+x2v///z9pyRCNLNnLeBDJ7//aGdYhJP8ouaME1D91Z4TkOoZtKJL/+xhvwCV9Vf+iSr5imAQP2ycGaJEjyvsEHkKfeRnQgAyRkgz/8Eiq3kKX/PgPLqlxA03u+uYYeNhOZ7zw//////9/Pfr/////X2vcmfgewv35RSju///////P4Pr4/1eLOINq5wuksC1nu3/9w///pxl8EjUYw/ZBIwUq+VRYkMn/7f4JrKzKrrsRAQWNz9PpHgwMDAy6b1BCEZ4Sfs5g0dYVRnU0I77sAAAiITGfQ/xcIQAAAABJRU5ErkJggg==\"/></td>\n",
              "      <td>apple</td>\n",
              "    </tr>\n",
              "    <tr>\n",
              "      <th>79</th>\n",
              "      <td><img src=\"data:image/png;base64,iVBORw0KGgoAAAANSUhEUgAAABwAAAAcCAAAAABXZoBIAAAB4klEQVR4nH3TX0hTcRQH8O+9/q63ds3g2j+G0rK9hGBjEkqBIVGgIgiDXhSCMNCgYQkFEizqwSB6KXooSJ96CPpHjCko7MEhZqNQoqEXHySjzWSxQrem8+vD3b1e0TpP55zPyzm/PxLx7xDOYn3cyOb857catGOjWwcA9QtJLsfe5OnAv6IhspyJY4hc6BLAhBN5sp3kXbGUDKraTY9nfRteriKTh5sHNDX4PYjn3IZPkCxcKGtB58KfNvTTxnTf0Zpr7xG5D694zG++0kHa+LpC6WjfV4Ye5ZgIG6EjepQ2vhONCXKxHooLezXIrbO08ZN6dpUkExIAcaC2pCG1hefcGbPwSb4Xt4Y3IuX1OQtH8cy0vNK3+kjDEIfl6xZerVgr7jKVI/NnvGSvMlfEuhbHrhxprCTTesDEbGnIiU24QvIBxkmCBl460biRIJmtDJAEJzHGndGtF0gZv1G+yyNoSs8AMjwwdkMpCsjw6h/s1mjSyg6eiAEypFM2zje/stLCDzcA8o76qzhFj+unNVAUb0mQX6WuAkkyvAeXVkz77PaumAd/D4HJTGrqIvy3xfHBeDwcanVVz1r3+bQEALSHa4ydBgClLpgiSYkAkJpOuKr8hwDgYwb7a1VzKul/32ETRF6ocNKce8oAAAAASUVORK5CYII=\"/></td>\n",
              "      <td>apple</td>\n",
              "    </tr>\n",
              "    <tr>\n",
              "      <th>80</th>\n",
              "      <td><img src=\"data:image/png;base64,iVBORw0KGgoAAAANSUhEUgAAABwAAAAcCAAAAABXZoBIAAABTUlEQVR4nJ3SvUtCURgG8OdeL3YrNdSoCJS2CoKEIqIhwmpqiKChrVocHGrzH2gOIqIhW6RRaKiWIKhRiigK7YMgMYl0ENN0uJRPw0293qsRPdM558c5vIf3FYjGEX+xPyOvDcpKIrhgbTQ3Xbhq/Gy3M6pDqbJKZ/tv8SlpUSBSs49QCuq23dczMmCq4sdo0idCsgKZWCkeL8I2Nr7c9VPtCQ60FSbDq8OS7E+RJBjEm+4HTKw096ZIgruI6ZE8tw3mSDAjB4zIU2yTIBc6lTrqmSRBHuOwDq6Z0gT55Zqrg1GEKALi4lHC2K4CWgGSLw5P3nAz0JQjSPLM7H3VWcS8RBUZtjjWs1q7cfflysjnGcHivy9TaUt2x0gK5em729wrDnknOpT8+1PoYX7HXjsmmY3pFrVTU/vqiVAzt8plQbLanW3VZjfO/4f6Gza2X6FNHJWAAAAAAElFTkSuQmCC\"/></td>\n",
              "      <td>apple</td>\n",
              "    </tr>\n",
              "    <tr>\n",
              "      <th>81</th>\n",
              "      <td><img src=\"data:image/png;base64,iVBORw0KGgoAAAANSUhEUgAAABwAAAAcCAAAAABXZoBIAAABb0lEQVR4nH2TMUhCQRjHv/fUl2kKCZVLGAWV1RS0WEsYFtEWDTVHBLlUW1NjELnUEo4SFkFEJJE0RQgSVEMhBFJgJJU80RJR8P0b0nd3gn3Td/fjfvfdd3cSqHEYa4kW+pgZqKeoRpDI/gkxZKaI5CN1C3XoUcI954202CanrSRqGaz4iK4aQaSd/XcilLhz5qxGIro/uygrU5vinmoymUZ5z0WmiblxOuW1hRUTEQ130mQ4C1Ra1wCg2qGs78Hvpu/9lH+XiEi2FTntuhIFgOR0HgDwbl1l2kzLklDmvOWFwQ3DM8+upS12Tq19gWfZPneJwSc64FhxtDn2l8lERDc0xnX7NdabK7LGLzuFcoJtZP/SV5o14aIW3wKypt+nIyu+JGOow6Frj+hE8IaqYwKAyoirwLFcl0djEHHZm9DZj898Cw7i2CZ5A5cpVFQ12m04hACh7gzWyhmK1xzcS8gnHjNkabLNKrUZ6b/v8Avc9rHt05KmMAAAAABJRU5ErkJggg==\"/></td>\n",
              "      <td>apple</td>\n",
              "    </tr>\n",
              "    <tr>\n",
              "      <th>82</th>\n",
              "      <td><img src=\"data:image/png;base64,iVBORw0KGgoAAAANSUhEUgAAABwAAAAcCAAAAABXZoBIAAABcklEQVR4nNXST0iTcRzH8ffv2bNYTz4OaWPkobJECYzIyAzCDCT6A51K6OAOQQs8C7qjEIrbIejJRDpEiB48hQcPCnUoqGARHlrBcB5Cwg6RDDYe2fh0SNyTkFfpe33xhfcXvkb8e6w9bF/QBqDwuSHctfnmL3F6XCRJZ4H27l17WVkAtS8Pcgv++/75u1GsNhfiw3OvjA+S9JUZVWcwHLg+/e42rc8rksxDIelZI95gDCIdv0ojkWjGl+rogh25dyHhkT4cSm1IAfwEnFjR5avfGuC4VEcb1qBlsZ3y2mkfqmUnEKxc7NCxeSmf4OYdczQ8JElaf3yJjNAYRUkvHM7oVsztuyh993oszmc3hTJsqZLi2kCTxiz6Gid7Lc5NFCUJPaK82hkarT3lx2tsY+gcX91uQh6zTfEl6QPJXrDShZ1eoSk48vLt3P2TEEomzU8F8cmf6nj/1BWAjwE0Ki2HD0LzKQP5vJwbpn6m+a++7zeVv8/vV9FtHQAAAABJRU5ErkJggg==\"/></td>\n",
              "      <td>apple</td>\n",
              "    </tr>\n",
              "    <tr>\n",
              "      <th>83</th>\n",
              "      <td><img src=\"data:image/png;base64,iVBORw0KGgoAAAANSUhEUgAAABwAAAAcCAAAAABXZoBIAAABoklEQVR4nMXST0iTcRzH8c9vW9PQBDVZglA8RDNCxeZpCJILgtGfQyUd1E5Khwg8iE6CokKUIYoQaV47RFAQpBBR2iU6dSkLD4qCSkihllOcz8Pbg882Fe3ioe/py+d1+f0+fA3afzz/sAOgb9u+HH+bl5tTerHSuIFxH7T29Mva6OKFZGJlIhke9bsKAGMlJhiq+waw9MTEtkIEJG5bpuQz6blj+tL4u9RXrnDGsBtcFQzo/aeiF+yhgtqKVLieWpyb6gLEgu+RG10ruN/cHJvPqHim7+AMXa06f9TnsazsIz8A7HrzGo9+6oTU2TRerFWn2yn+6H0gSd5W/kqMqKbXPlYHfH05l6fLbVkJgGGNIdYLpS4Nw/z10Mhj5X/QO2CjOrCB4LhUXZhc7M3PDSoc0JTi4NzSKxDcU6SssuGwotP2UEgq043Bu5YeuvW1SQq0jAPQ7j8l6dClN6lumclpdNy/Jmd7zOTCcqZ4qDgH8MfGgSun0zVuYdwz86v/rKz2gqqoYrtwznvSr3D8jIlGgh3OLuR5pGMCWGXHmP9wt5sVRWgr7PE7kQAAAABJRU5ErkJggg==\"/></td>\n",
              "      <td>apple</td>\n",
              "    </tr>\n",
              "    <tr>\n",
              "      <th>84</th>\n",
              "      <td><img src=\"data:image/png;base64,iVBORw0KGgoAAAANSUhEUgAAABwAAAAcCAAAAABXZoBIAAABS0lEQVR4nGP8z4AbMKHxr+xE5v1HBcnqSBx0nf/+4TGW5z0eSZ03zxEcFjjr2oofXzx9dBkuS2I46FcBC4egOINuOINjx7QzUEGYZAlj0Yf/f1cZy7KwMTAwqNS8RpLcylgMVbV0y//XS/3YIhGSj0XMf6F4t4H5GlzSTeA+ali8Z2uASd5gnIAWUP9lM2AhNI8tFj3MBd9BA+HP4kAhdMlnElDJM8+j0eXevVGFSj5mUEOXXM9gAQ2hCQyf0ZzzT8v8/////1kYGBhe8PCgaey4tgEWtvGqaBrnMKb+g4VQHu8nFLlJzIF/4AF/gWE6ktTHSIaIH0ixYqn6DS63V551IozN8P////9HmWO/Qrhfshl1z/1HkfzfwSS3/P3/d8965Vmqfv5Hk/x/ypSBgYGBgdHtJLLLGKEp/t+x89+4OWw0ULzLiC87AAARFnnuVkmp5gAAAABJRU5ErkJggg==\"/></td>\n",
              "      <td>apple</td>\n",
              "    </tr>\n",
              "    <tr>\n",
              "      <th>85</th>\n",
              "      <td><img src=\"data:image/png;base64,iVBORw0KGgoAAAANSUhEUgAAABwAAAAcCAAAAABXZoBIAAABRElEQVR4nHWSTygEURzHvzMN23KyUyTbtFuSg400Lm5KtsTdQVvroiQlB07I2ZFSUlubtGc5UFtI1kEpB22kHKx2laJNMbszX4eZzP/f4fV+79P79X3f7xOI8JICzpqF155ZAAB9dTYAJAyS9MMd9J9YWx/U4hMaw+AhigyFWcXeO9T+ls51Rf3seqh19kbgUlvNRNESRWsqLgJ9L66xuY62ldNvVlSIa9dH8qQTbiH9bA5Yuie5Lmg2PMCC7lS1jR9bUH54N8hbEQCaV1OBxovmevEWCqWxy0r4zRTvwuEQlotBlCTZSCBS8D/FMqEkQ5h7/4er7brTvnISiO0ZVpcedUdWVQFkzJwNedGTZ30awPgXST4i7w3byMWAwTrJTTx5IVmbAfY/yvNCln5IHisApI2G2QmeH6/f3nSPJK3GC131B99An1iMwgLbAAAAAElFTkSuQmCC\"/></td>\n",
              "      <td>apple</td>\n",
              "    </tr>\n",
              "    <tr>\n",
              "      <th>86</th>\n",
              "      <td><img src=\"data:image/png;base64,iVBORw0KGgoAAAANSUhEUgAAABwAAAAcCAAAAABXZoBIAAABZ0lEQVR4nGP8z4AbsKByf297aasJ5zGi6Pzjs5OBfZrsB0Z/VgYGBgaG/8hgGuO8pyZMDAyM5/7/////P6pkiOb/PUys9Xdf/Mciaeb9UtLgO5yL6iC1kwmf93NgOujX0g1PGd4+YFBnVyq0g4oxQelvPkm3BAVlWRiea553uQTTCjU+lXXF/////29lyPj/Udr6P4qDzjLWQxhztvz/P5PhAopkJ9NHhJs/chWiSAbqIfsoWuzX//////+HOuiEGbKPol8dR3Ltg+eWyJIiDL+QJG8z6KDEDQMrkiQHw29kyZ8MbEiSQgxPkSV/oUhqSmxHlrzHII8kyeS57S+S5HVREeSwDX81CUnyGiylQP0dxnUTHgbnmOtQI/uVmMVnKPOvhcxntJSwjU1//vv//////z+LYfV/NMn/e7QY2ANWfP2/UcjjP4bk//8XKxUZGBgYDB/ABFDT7f9TR/4ohMJSB1qiRgMALVJLhNdUuUAAAAAASUVORK5CYII=\"/></td>\n",
              "      <td>apple</td>\n",
              "    </tr>\n",
              "    <tr>\n",
              "      <th>87</th>\n",
              "      <td><img src=\"data:image/png;base64,iVBORw0KGgoAAAANSUhEUgAAABwAAAAcCAAAAABXZoBIAAABcElEQVR4nGP8z4AbsGCI/L9276lYEJSNCn41SjMwMLD+/v//////aJJvjRhDFhowzvyPTdKPe+s6E5gcmuQjJl11Bq21/7FKtjGwOW/8+x+7ZLD21/9/n16BcWFeuXGIQcif9YHao3mLXzCkTGFH9soWHgYGBrU1wkaMHJHza5isXiAZO5nZ+sG73UYMDAwl7/7//7+Zz+ArXLKUIfz7/////y5VCIIYtI8lFiZ5jyH7H1pANTPcgEp2Mz5Gk/v/lr0aKmljgS73/3+g2v///5kYGBiuW2LGlu4jBgYGJgYGhp+cmJJCP75BJH+xYkq+YvkLkfzzG0Pu28wQXkgIeUp9R3fPFIYzUNeeZpyIJvdH2QkeQh5CO1ElVzNshUs+NGYq/4Ukd0Fc7x8i4H8UMFpegkn9nieodO8/QvL//00ijN67f/9593ZPsQKD7dP/KJL/P3VLQ3zB7b8bJsaISPG/9l36z8uibMMOF2HElx0A9nDOdkNkqksAAAAASUVORK5CYII=\"/></td>\n",
              "      <td>apple</td>\n",
              "    </tr>\n",
              "    <tr>\n",
              "      <th>88</th>\n",
              "      <td><img src=\"data:image/png;base64,iVBORw0KGgoAAAANSUhEUgAAABwAAAAcCAAAAABXZoBIAAABGElEQVR4nGP8z4AbMKHwrm9Dlf2PDHJlUbioOvmfi6TjNFbwjwEylwVVkmGJBE6dMgw3cTjo6+owZSaJ+LMIEYTkfh4G2VgrZ2GGqO8Ykk/EDI79+////5d2ZruvaJK/rAXvQpnrmavQJMsZN8EtSOO4gyL5W9AC4Y5XjG0oIXTo/QuEB3j/c6D48yRDAELyIwM/iqQogwuyJB+KpC3DT4TkJzSdggzvkXUKoEgKIEu+QZNkE76MkNwrrIQa8OWssAD6/1ciAS2E3vAmwSSPMqxHD/gKlttQVgLnF3TJ10IKJ/7//////1bGBowo+39JkTHs7IvPkznMfmFK/v/WLsDAwMDg+wEuwoic4t8ffPve2hLBZ8SXHQAmFlFimWJtQwAAAABJRU5ErkJggg==\"/></td>\n",
              "      <td>apple</td>\n",
              "    </tr>\n",
              "    <tr>\n",
              "      <th>89</th>\n",
              "      <td><img src=\"data:image/png;base64,iVBORw0KGgoAAAANSUhEUgAAABwAAAAcCAAAAABXZoBIAAABcElEQVR4nH2TzStEYRjFz33dzMydiZGEIiwkk6SQEBGlsZWShZUVKYQ/wNLWzsrCQpfJQslqGslO+RhmokZTymc+LjMjXHMsxuRec8eze/q9p/N0Oq9EZB9h2kJbZkrD6JUdxpWy8eFzdO7zULO1CyvlDWoUADPp3eSpgxObE9g1eyb9quq7YxQrwR54n9JKiQD2JvcB2Ab7hxsPlL4mSW5ocaWVJ87q1UjkaLbw18CxoJME+eUpvydJJra1x8c4yXhgGG0REuQu1pkxvqIWEuSUM5EJOZ+jUwAHrQ6LXO1fSQgglm8VehISBBB3WsGLMhkCSChWMORBdhj+B9481AICfLOCYXgAAcl9bQFPUQsIoDlg0aOd6kIApIrljHweCsZSwbO7RPvDPnqV4x8YlKfN7LZLqOmC1Y0vukdLsbEmd9a/v8aer5Zi6gCAVE1ehgQAVFWkjhHekKEmwLlfQ/GIuDyzu/Lcrtyfk6X/vsM3wWMp7w3RzNAAAAAASUVORK5CYII=\"/></td>\n",
              "      <td>apple</td>\n",
              "    </tr>\n",
              "    <tr>\n",
              "      <th>90</th>\n",
              "      <td><img src=\"data:image/png;base64,iVBORw0KGgoAAAANSUhEUgAAABwAAAAcCAAAAABXZoBIAAABb0lEQVR4nMWS3SuDYRjGr/edtRLbylpNWCurSUKm7EBsihPJESdK+Qec+QuUgzmyA+3IyXxMLy0tH6VkSnEwpOTrwEe+MqzJwuy9HNg7Y+NIuc6e59d1P/f9XLdA/CzxF/YX8HokB2VKEnaXWh38ojQ8RxdQ290x8fwNRuaXD1mm7tS7UIyS0ddMuG4A0OBEDwwuOdQCi3tbVmBYXxna8JpE6GyYJrnSJMLY/0QSlM3llyRPqyA48UCSvPX35TXKJLiDKZJk1A4grDzng0SCYzj7ON9Yod1XoGxrJ8EAZlIXF9LF5xgD+XGCyTpLnNlawCZFiJ4Td46fM+IeINmrWct2HsNPkIxVFx1mwQi8FAEUzqnbj1LVEkrZAsRSqYRN2skPg2Ew3VBQSeWqGfVBkjSpQiTJPUvFSzqypM+GGk/kRq0qnV2VhtoE3VZGnnwbdwAqTcAMQKwYjpIUMlfzYPGuw57Ye9RbNQAA4R/29h0vNluy47AxZAAAAABJRU5ErkJggg==\"/></td>\n",
              "      <td>apple</td>\n",
              "    </tr>\n",
              "    <tr>\n",
              "      <th>91</th>\n",
              "      <td><img src=\"data:image/png;base64,iVBORw0KGgoAAAANSUhEUgAAABwAAAAcCAAAAABXZoBIAAABZklEQVR4nGP8z4AbMOGRwyK5cgaC/R8NNDMmwdlokn8yGJJ+45KMYWxF4jHCXfv2vwjDfqc8jdMCNvbCqHa+CGJmYJEUZmdgkONl4FmBYuwDRwbn6Y1RDGwLn/7/c86JoeA3QnINB0fa4///XxtvhzirgrEILjmHyekFqsNKmE9AJU+wBv5E8+1XFZ2fEElrpc/oQfF/H2PD//8M///vZ5iLIff/fyrb1f8M//97yv3CIvmOoes/E8PnPUmsWGKEnYGdgYnh4G9XbNH1goGPgYnhMqMZNslFLK4MTAz/GFiwyP2ZEyDNwMTAzPALi+Ssp+kMDAz/dzIsR7hxw3EIvYc14N///wz//9gK3oPJnWFhrvv4///HXh6TL5DgeyQquhoi90tfIZ2BVVKBmSH4NSzg79gwhCy6/Pv/mxjGXf8vtOSltZ9Bis+/3UIMDBx6AuwdqKEESyb3zp+/I1isgupkRrJTPAB8S4C6zB8CZwAAAABJRU5ErkJggg==\"/></td>\n",
              "      <td>apple</td>\n",
              "    </tr>\n",
              "    <tr>\n",
              "      <th>92</th>\n",
              "      <td><img src=\"data:image/png;base64,iVBORw0KGgoAAAANSUhEUgAAABwAAAAcCAAAAABXZoBIAAABZklEQVR4nH3TPUtCURwG8OferqlFFJSTRBQIkQa9QTRZYvQGDU21RBA0hQ0NTfYNQggaGhqyb+DQUkYWRFphQ3OvUOhgSXW7mfQ0dL0eb9z+0znnx3l5DudIhHXJYkeLqpVKoZYQFrsUZz5uIm+57IaGIUvMwDZoiQomGipQAYCvvaQ72AYFU8inbY6adql82mQbAGksHsLycDUAeNYKJEmJwM7sZH8q9QSliO7JYOE7s70/EGvUZ24hTfJ+GrZbPWDMOUeSIBnsIkl+dHiN+KvyuY6dM78j69JLCd/c4yQV4eQL3vpSszZwZsppDwjtTxOKZWBd9i/eNenoP9HMlj0Y1XPGsUdTzTtv9ChazYrJEnK4dAkc6a20G5fv3cCIfCFa3ue6poGvzX3PZVPH7ccsI3ftLYmSxVrlKEXkpbdq8SiXyz1EfOg5ZSVSDTkAAJJ/p2hsIBkvXj28IpxjHuEqpP++ww+k6k8r4UGjMgAAAABJRU5ErkJggg==\"/></td>\n",
              "      <td>apple</td>\n",
              "    </tr>\n",
              "    <tr>\n",
              "      <th>93</th>\n",
              "      <td><img src=\"data:image/png;base64,iVBORw0KGgoAAAANSUhEUgAAABwAAAAcCAAAAABXZoBIAAABXklEQVR4nLXSP0hCURQG8M8nKJliagQR4WJJCoG19ZegIAoDoYaQIBqDGpIQGoLaGloEoSUQmnIJpTZJGpIiCaIHWUG0BIo4FJqJ5tegaekraOjbzvnBPZdzr4z4OcIv9he8u82tdF1Va1azY4OuR5BvVBpf8L3RuAhNsMl5/VCoQzpM5+ieAABz6DtmY+F16AGD3RP0WeUnVUy4WgEAem+WJPlqbU994kWLYm7bHwn5OhfK54gNk8USHqvN96yJF0ESZKbNlqw1Fs0jJMgtIVpnpAcxghwYljCKCFBALjootddmJCEg+tYvhXFoIOAGFik8ko8CjOBQYuSlbowEcw2r9ban6ngiQc7qn2so78Z4eX2isFlpn0bJ4tmQbK3AEtKpDJfocR4Gv8sI7UGpBskXmzZAUlxSqKcUUE3vp1lFJvpkjhkLlMtxZsR0ZUb5PfNuU699N1V7Z9n/fOoPGdmZkAx0RdEAAAAASUVORK5CYII=\"/></td>\n",
              "      <td>apple</td>\n",
              "    </tr>\n",
              "    <tr>\n",
              "      <th>94</th>\n",
              "      <td><img src=\"data:image/png;base64,iVBORw0KGgoAAAANSUhEUgAAABwAAAAcCAAAAABXZoBIAAABgUlEQVR4nH2TzStEYRTGn3tfZu5CF5OPEaHYKBrTJEVSotgwsUJh4R9gS1KUrCwsLJSVjVnIytfW5CulWCosMIirmTA1mXksrrnzvhrO7pxf57xPzzmvRvwdupycHqhQkzuDL2EF5siJiMc2b5/GmrNCd9R/7co9Ps/6pn6rh978n5kCpWhArSsgpq10nobrLYGOVUPUlQjAnI0rcAe+zkZUGKbLvREe1nuTMuyv/iInoHn1XZJrWJNgPG+S5LtA/ghJsmqUJGmrXXrvA3CYRHQAANB0mlEbQdEXydQ4cmMkyUU96ow9Qg9J0ipusyXs45AkcwDAQDkAoHDPbY9Lwe3Y50WlXfT/OGOh0LGvWGjqrt7gcaAoeVShJcyM8WWRX50F2t/wqE5amVeFDydBCdbc3chwKxXMOMRnc5AkF6ZsDzp9ysrmtDMy4WklSV6KeQV+VJRuWiswZkKh7WWz9FW9hKsAgPYhHQC673+Kzt0mwhc1XcZrNBlz1af90v77Dt8cchDZFV92VwAAAABJRU5ErkJggg==\"/></td>\n",
              "      <td>apple</td>\n",
              "    </tr>\n",
              "    <tr>\n",
              "      <th>95</th>\n",
              "      <td><img src=\"data:image/png;base64,iVBORw0KGgoAAAANSUhEUgAAABwAAAAcCAAAAABXZoBIAAABTElEQVR4nNXSsUsCARgF8HfqlR6CQgpGikKTjkYpSUtQS2ORQTgEkZMEEbQEDm0NITWU0OBY/0IGLeFkDUGWFGUlyQ1SZpdW6GvQPCNqjd74fvAt7xOIn6P5xf4EdcCurpy7zhVq1QofAXRKMFhtVqsjLOmQmAE6nC6fJJhhFIEHQJHldF7RRcDi1rS+I3TJ9igxO4ayBEnKS5IYumjRU6wbgX2ygWRhQRLDMknyJGLSjB+RKpLyot60+lre9sE4e9bsWkheTcBkRF+s2GpULMW90GJEpTZckxBIlGMGe/IblicRPCXJjFeYU75i3iOuN4u3qNZz3I71UfOheizVK0ZrKsaRaPQvmb3kQTo1hYHsJ+bNY+TNzrzfog4ibJAUCPSnba7be5j8bqejR6xUn99LxcT58goEouIc7rqzDvrd7dvWNy1BCP/q+z4AWe0moBVgsOcAAAAASUVORK5CYII=\"/></td>\n",
              "      <td>apple</td>\n",
              "    </tr>\n",
              "    <tr>\n",
              "      <th>96</th>\n",
              "      <td><img src=\"data:image/png;base64,iVBORw0KGgoAAAANSUhEUgAAABwAAAAcCAAAAABXZoBIAAABeklEQVR4nH3TP0hbURTH8e+7eakaa3mSBGuHiF2KUBWzaIcqkilTkVIUcelSFFoKTlLcBRdL1UVQQdxaaAXBLEIQXNWxJa3UQSOSDA5aQp75dTCaxLx4pnvOh8v9d64laoepqlzcg0nnsDauun9rYm6DTE1MnMeelzJVxvvgVSmxAQ5XUs7DxsZgV9Q+jRhIHXe03Mycr3/Q/TTUADwa6RxQ4iXQPHYhIS3y5kySrtIbHx9j7weefU4uffBNSMh9Ei+tkp8i7KQladraFjrgW/mOOlmQJOWYkc05reVnmfo+XhzZGC4JlOPoVx8AefzVeBMufgz/aPBGG4OPSy88Joyhl10v3COKoT2y44X7zREM9CcLXthjYeD10Wy1FQ6igKS35t3ZnZfTMj8kJOU+1Tuz2Qr73RQvXKP0Z4i64YR7e/1fnPCJJKvYt79W19JNfS/agqFgbnP956u5dihrk/zWZK8fAN9g4rpkVXS8m8lmM/lYqJha932H/xFJ8FzHiJEQAAAAAElFTkSuQmCC\"/></td>\n",
              "      <td>apple</td>\n",
              "    </tr>\n",
              "    <tr>\n",
              "      <th>97</th>\n",
              "      <td><img src=\"data:image/png;base64,iVBORw0KGgoAAAANSUhEUgAAABwAAAAcCAAAAABXZoBIAAABiElEQVR4nH3TTygEYRgG8Ocb688QB6SxFLGRtqQ44KBIbSi1tXFUDlwcnOQgcSJJShRJSU4uOLg4uKwQtrTlz0Z2GzE5ENoSy+OwM2PG4j299fuaeZ/v7RPE3+X4boOHT+WeJJvSqEEBoP2FljJxFn030fmUvLHnROyA94NkwCu1JmKG7zPejIpoAnrlfZKkvyz/3UShR3mqD1eUQN6+K16rMYc1EJGZSzXQWNrgk3+LQu7AT1tJlnMKNOwVZrq6zu039LoRlppcuMOY1Ketrw6NWD67mQsAbfIwlR7ysRfT31Eusmp3H+6nFGl8Dgsk6cvUDPysdGokGZ0Fks9I8jqt10A1fpykeqNfz4AjpE8bRpk+XmFBerzxxDQAEoAYEjZ+CreO1Un7P/HImW1EqWq23wzV1H4zyqQ4sNl7m3xr4nOJErJYrFssW/Z55SxSTdtyY8K27GCOa5skGZmug3uLNuRxOVqXTl5XHKJmMcYfyLcZJwC0RCw/F5b84cCl0plqSSv+ew5f9kqrqC7MYpgAAAAASUVORK5CYII=\"/></td>\n",
              "      <td>apple</td>\n",
              "    </tr>\n",
              "    <tr>\n",
              "      <th>98</th>\n",
              "      <td><img src=\"data:image/png;base64,iVBORw0KGgoAAAANSUhEUgAAABwAAAAcCAAAAABXZoBIAAABpElEQVR4nH2TP2hTURjFz3155I+lkaT0UYdia8VCJY20NCVK6eKSQdpBB2t1sbQ4RXTpJlEKBUFKh2ZzdGiopZKh6VBCySCE1zoIIigZYluNkEUlf/ryjkPeS17+9Wz3+8H3ne/cewXRWTKAUvwbMH67DSWzvQCAOzk2C+QGHhyWz9a7R07awE0FcAaePHdf/dkEBQFkVVVVc5J+N9Yy09DuFBBvaVtTyn/5b0fItC3SGTI0RrKQN49SdXLl9NNnAP35rQGny+uP/qkbKkdcgHhNLiq49eLNWhDK+1rbiHj4Nv4IL7kgT2gkeXQTqya8N0pSXxL7ISSq07QZpWzAYIgkS9eH/KJoeNnDBwPOD5IkP9ok2TSquZ8ZbgOZ3wAwGda1X0ZwNqcOSAAwgTQA4NUVX481WgkAbjiSAIALO9uyUdeLshn8XK9pxNQBYmZ8KUSb4GxfsZZtyJ1pYElppR78sXe6YmHHl3z/LLfyDisWNuz5SgvkY/H0RyGf/X6YTiz3eFQ2QC1sN9dz3P9SrYn6iz+NlS7au1zO7mseoyLO+w7/AQTVzrSJVS3wAAAAAElFTkSuQmCC\"/></td>\n",
              "      <td>apple</td>\n",
              "    </tr>\n",
              "    <tr>\n",
              "      <th>99</th>\n",
              "      <td><img src=\"data:image/png;base64,iVBORw0KGgoAAAANSUhEUgAAABwAAAAcCAAAAABXZoBIAAABV0lEQVR4nGP8z4AbMKHxD/S8RuL9RwG/RFl2IngsqBp3vt7lcu3YHe1YbDrDeT0FGRgYmL/8/////380Oy98fRUzSZexhhubTpnM/6vEOBZDeWiSijHBDNY3YDxGqD93l3MImxby6r9/E8Dyg9kgjxPJ2Fks2r4WzGLTLdiYGeSNdZgtXiOM3c0Y9PX//0seDCyMNjf+//+/nScCLvldRecXxCcMmyEmVbK9gEnWMB2FiL0MeQxh3GPqhkr+4k78jw7kMqCBcOWrH+5YOc1gilvyqrA0bklGZuxyDEwMDAzsPzGE/70RgkryfH2DLvngmxY0+G5xJKH7ZAvDWVgg1DMeRpNsYPsGDz5VmSsoct9UXBABf1NeCEVvEdNhpPh86nHVt1Kd/+bOnwzCCtILuop7kOLz/+dOcYRbmfP+oKQEBobvm95+FvUXZnjx4IG+JkSIEV92AADTIWgvLvXnjgAAAABJRU5ErkJggg==\"/></td>\n",
              "      <td>apple</td>\n",
              "    </tr>\n",
              "  </tbody>\n",
              "</table>                          </body>                                                          </html>"
            ],
            "text/plain": [
              "<IPython.core.display.HTML object>"
            ]
          },
          "metadata": {},
          "output_type": "display_data"
        }
      ],
      "source": [
        "# Save intermediate bitmap SFrame to files\n",
        "bitmap_sframe = get_bitmap_sframe()\n",
        "bitmap_sframe.save(bitmap_sframe_path)\n",
        "bitmap_sframe.explore()"
      ]
    },
    {
      "cell_type": "code",
      "execution_count": null,
      "metadata": {
        "colab": {
          "background_save": true,
          "base_uri": "https://localhost:8080/",
          "height": 1000
        },
        "id": "Hx_p_qkpeKfO",
        "outputId": "3318e48d-798f-42b7-c3c0-02f4056a53ba"
      },
      "outputs": [
        {
          "name": "stdout",
          "output_type": "stream",
          "text": [
            "Downloading https://docs-assets.developer.apple.com/turicreate/models/drawing_classifier_pre_trained_model_245_classes_v0.mlmodel\n",
            "Download completed: /var/tmp/model_cache/drawing_classifier_pre_trained_model_245_classes_v0.mlmodel\n"
          ]
        },
        {
          "data": {
            "text/html": [
              "<pre>Automatically generating validation set by sampling about 10000 out of 230000 datapoints.</pre>"
            ],
            "text/plain": [
              "Automatically generating validation set by sampling about 10000 out of 230000 datapoints."
            ]
          },
          "metadata": {},
          "output_type": "display_data"
        },
        {
          "name": "stdout",
          "output_type": "stream",
          "text": [
            "WARNING:tensorflow:From /usr/local/lib/python3.7/dist-packages/tensorflow_core/python/ops/resource_variable_ops.py:1630: calling BaseResourceVariable.__init__ (from tensorflow.python.ops.resource_variable_ops) with constraint is deprecated and will be removed in a future version.\n",
            "Instructions for updating:\n",
            "If using Keras pass *_constraint arguments to layers.\n"
          ]
        },
        {
          "data": {
            "text/html": [
              "<pre>Using CPU to create model.</pre>"
            ],
            "text/plain": [
              "Using CPU to create model."
            ]
          },
          "metadata": {},
          "output_type": "display_data"
        },
        {
          "data": {
            "text/html": [
              "<pre>+--------------+----------------+---------------------+--------------+</pre>"
            ],
            "text/plain": [
              "+--------------+----------------+---------------------+--------------+"
            ]
          },
          "metadata": {},
          "output_type": "display_data"
        },
        {
          "data": {
            "text/html": [
              "<pre>| Iteration    | Train Accuracy | Validation Accuracy | Elapsed Time |</pre>"
            ],
            "text/plain": [
              "| Iteration    | Train Accuracy | Validation Accuracy | Elapsed Time |"
            ]
          },
          "metadata": {},
          "output_type": "display_data"
        },
        {
          "data": {
            "text/html": [
              "<pre>+--------------+----------------+---------------------+--------------+</pre>"
            ],
            "text/plain": [
              "+--------------+----------------+---------------------+--------------+"
            ]
          },
          "metadata": {},
          "output_type": "display_data"
        },
        {
          "data": {
            "text/html": [
              "<pre>| 1            | 0.394663       | 0.0397891           | 2m 41s       |</pre>"
            ],
            "text/plain": [
              "| 1            | 0.394663       | 0.0397891           | 2m 41s       |"
            ]
          },
          "metadata": {},
          "output_type": "display_data"
        },
        {
          "data": {
            "text/html": [
              "<pre>| 2            | 0.409958       | 0.710435            | 5m 18s       |</pre>"
            ],
            "text/plain": [
              "| 2            | 0.409958       | 0.710435            | 5m 18s       |"
            ]
          },
          "metadata": {},
          "output_type": "display_data"
        },
        {
          "data": {
            "text/html": [
              "<pre>| 3            | 0.75771        | 0.782751            | 7m 59s       |</pre>"
            ],
            "text/plain": [
              "| 3            | 0.75771        | 0.782751            | 7m 59s       |"
            ]
          },
          "metadata": {},
          "output_type": "display_data"
        },
        {
          "data": {
            "text/html": [
              "<pre>| 4            | 0.801861       | 0.810405            | 10m 37s      |</pre>"
            ],
            "text/plain": [
              "| 4            | 0.801861       | 0.810405            | 10m 37s      |"
            ]
          },
          "metadata": {},
          "output_type": "display_data"
        },
        {
          "data": {
            "text/html": [
              "<pre>| 5            | 0.819979       | 0.820352            | 13m 13s      |</pre>"
            ],
            "text/plain": [
              "| 5            | 0.819979       | 0.820352            | 13m 13s      |"
            ]
          },
          "metadata": {},
          "output_type": "display_data"
        },
        {
          "data": {
            "text/html": [
              "<pre>| 6            | 0.832241       | 0.83398             | 15m 50s      |</pre>"
            ],
            "text/plain": [
              "| 6            | 0.832241       | 0.83398             | 15m 50s      |"
            ]
          },
          "metadata": {},
          "output_type": "display_data"
        },
        {
          "data": {
            "text/html": [
              "<pre>| 7            | 0.839725       | 0.839351            | 18m 24s      |</pre>"
            ],
            "text/plain": [
              "| 7            | 0.839725       | 0.839351            | 18m 24s      |"
            ]
          },
          "metadata": {},
          "output_type": "display_data"
        },
        {
          "data": {
            "text/html": [
              "<pre>| 8            | 0.846945       | 0.84522             | 20m 59s      |</pre>"
            ],
            "text/plain": [
              "| 8            | 0.846945       | 0.84522             | 20m 59s      |"
            ]
          },
          "metadata": {},
          "output_type": "display_data"
        },
        {
          "data": {
            "text/html": [
              "<pre>| 9            | 0.852442       | 0.851288            | 23m 35s      |</pre>"
            ],
            "text/plain": [
              "| 9            | 0.852442       | 0.851288            | 23m 35s      |"
            ]
          },
          "metadata": {},
          "output_type": "display_data"
        },
        {
          "data": {
            "text/html": [
              "<pre>| 10           | 0.857307       | 0.851487            | 26m 13s      |</pre>"
            ],
            "text/plain": [
              "| 10           | 0.857307       | 0.851487            | 26m 13s      |"
            ]
          },
          "metadata": {},
          "output_type": "display_data"
        },
        {
          "data": {
            "text/html": [
              "<pre>| 11           | 0.860639       | 0.852482            | 28m 50s      |</pre>"
            ],
            "text/plain": [
              "| 11           | 0.860639       | 0.852482            | 28m 50s      |"
            ]
          },
          "metadata": {},
          "output_type": "display_data"
        },
        {
          "data": {
            "text/html": [
              "<pre>| 12           | 0.865536       | 0.85467             | 31m 27s      |</pre>"
            ],
            "text/plain": [
              "| 12           | 0.865536       | 0.85467             | 31m 27s      |"
            ]
          },
          "metadata": {},
          "output_type": "display_data"
        },
        {
          "data": {
            "text/html": [
              "<pre>| 13           | 0.868814       | 0.857356            | 34m 4s       |</pre>"
            ],
            "text/plain": [
              "| 13           | 0.868814       | 0.857356            | 34m 4s       |"
            ]
          },
          "metadata": {},
          "output_type": "display_data"
        },
        {
          "data": {
            "text/html": [
              "<pre>| 14           | 0.871205       | 0.859544            | 36m 39s      |</pre>"
            ],
            "text/plain": [
              "| 14           | 0.871205       | 0.859544            | 36m 39s      |"
            ]
          },
          "metadata": {},
          "output_type": "display_data"
        },
        {
          "data": {
            "text/html": [
              "<pre>| 15           | 0.874647       | 0.860539            | 39m 19s      |</pre>"
            ],
            "text/plain": [
              "| 15           | 0.874647       | 0.860539            | 39m 19s      |"
            ]
          },
          "metadata": {},
          "output_type": "display_data"
        },
        {
          "data": {
            "text/html": [
              "<pre>| 16           | 0.876857       | 0.855864            | 41m 56s      |</pre>"
            ],
            "text/plain": [
              "| 16           | 0.876857       | 0.855864            | 41m 56s      |"
            ]
          },
          "metadata": {},
          "output_type": "display_data"
        },
        {
          "data": {
            "text/html": [
              "<pre>| 17           | 0.87923        | 0.860141            | 44m 32s      |</pre>"
            ],
            "text/plain": [
              "| 17           | 0.87923        | 0.860141            | 44m 32s      |"
            ]
          },
          "metadata": {},
          "output_type": "display_data"
        },
        {
          "data": {
            "text/html": [
              "<pre>| 18           | 0.881594       | 0.859743            | 47m 5s       |</pre>"
            ],
            "text/plain": [
              "| 18           | 0.881594       | 0.859743            | 47m 5s       |"
            ]
          },
          "metadata": {},
          "output_type": "display_data"
        },
        {
          "data": {
            "text/html": [
              "<pre>| 19           | 0.883404       | 0.860539            | 49m 39s      |</pre>"
            ],
            "text/plain": [
              "| 19           | 0.883404       | 0.860539            | 49m 39s      |"
            ]
          },
          "metadata": {},
          "output_type": "display_data"
        },
        {
          "data": {
            "text/html": [
              "<pre>| 20           | 0.885354       | 0.861633            | 52m 13s      |</pre>"
            ],
            "text/plain": [
              "| 20           | 0.885354       | 0.861633            | 52m 13s      |"
            ]
          },
          "metadata": {},
          "output_type": "display_data"
        },
        {
          "data": {
            "text/html": [
              "<pre>| 21           | 0.887391       | 0.861335            | 54m 49s      |</pre>"
            ],
            "text/plain": [
              "| 21           | 0.887391       | 0.861335            | 54m 49s      |"
            ]
          },
          "metadata": {},
          "output_type": "display_data"
        },
        {
          "data": {
            "text/html": [
              "<pre>| 22           | 0.888901       | 0.863424            | 57m 27s      |</pre>"
            ],
            "text/plain": [
              "| 22           | 0.888901       | 0.863424            | 57m 27s      |"
            ]
          },
          "metadata": {},
          "output_type": "display_data"
        },
        {
          "data": {
            "text/html": [
              "<pre>| 23           | 0.890155       | 0.859843            | 1h 0m        |</pre>"
            ],
            "text/plain": [
              "| 23           | 0.890155       | 0.859843            | 1h 0m        |"
            ]
          },
          "metadata": {},
          "output_type": "display_data"
        },
        {
          "data": {
            "text/html": [
              "<pre>| 24           | 0.89221        | 0.861633            | 1h 2m        |</pre>"
            ],
            "text/plain": [
              "| 24           | 0.89221        | 0.861633            | 1h 2m        |"
            ]
          },
          "metadata": {},
          "output_type": "display_data"
        },
        {
          "data": {
            "text/html": [
              "<pre>| 25           | 0.893479       | 0.859743            | 1h 5m        |</pre>"
            ],
            "text/plain": [
              "| 25           | 0.893479       | 0.859743            | 1h 5m        |"
            ]
          },
          "metadata": {},
          "output_type": "display_data"
        },
        {
          "data": {
            "text/html": [
              "<pre>| 26           | 0.894643       | 0.860042            | 1h 7m        |</pre>"
            ],
            "text/plain": [
              "| 26           | 0.894643       | 0.860042            | 1h 7m        |"
            ]
          },
          "metadata": {},
          "output_type": "display_data"
        },
        {
          "data": {
            "text/html": [
              "<pre>| 27           | 0.896489       | 0.860639            | 1h 10m       |</pre>"
            ],
            "text/plain": [
              "| 27           | 0.896489       | 0.860639            | 1h 10m       |"
            ]
          },
          "metadata": {},
          "output_type": "display_data"
        },
        {
          "data": {
            "text/html": [
              "<pre>| 28           | 0.897653       | 0.859345            | 1h 13m       |</pre>"
            ],
            "text/plain": [
              "| 28           | 0.897653       | 0.859345            | 1h 13m       |"
            ]
          },
          "metadata": {},
          "output_type": "display_data"
        },
        {
          "data": {
            "text/html": [
              "<pre>| 29           | 0.899976       | 0.861235            | 1h 15m       |</pre>"
            ],
            "text/plain": [
              "| 29           | 0.899976       | 0.861235            | 1h 15m       |"
            ]
          },
          "metadata": {},
          "output_type": "display_data"
        },
        {
          "data": {
            "text/html": [
              "<pre>| 30           | 0.900735       | 0.856759            | 1h 18m       |</pre>"
            ],
            "text/plain": [
              "| 30           | 0.900735       | 0.856759            | 1h 18m       |"
            ]
          },
          "metadata": {},
          "output_type": "display_data"
        },
        {
          "data": {
            "text/html": [
              "<pre>| 31           | 0.901749       | 0.858848            | 1h 20m       |</pre>"
            ],
            "text/plain": [
              "| 31           | 0.901749       | 0.858848            | 1h 20m       |"
            ]
          },
          "metadata": {},
          "output_type": "display_data"
        },
        {
          "data": {
            "text/html": [
              "<pre>| 32           | 0.903463       | 0.857157            | 1h 23m       |</pre>"
            ],
            "text/plain": [
              "| 32           | 0.903463       | 0.857157            | 1h 23m       |"
            ]
          },
          "metadata": {},
          "output_type": "display_data"
        },
        {
          "data": {
            "text/html": [
              "<pre>| 33           | 0.904068       | 0.857953            | 1h 26m       |</pre>"
            ],
            "text/plain": [
              "| 33           | 0.904068       | 0.857953            | 1h 26m       |"
            ]
          },
          "metadata": {},
          "output_type": "display_data"
        },
        {
          "data": {
            "text/html": [
              "<pre>| 34           | 0.905209       | 0.857257            | 1h 28m       |</pre>"
            ],
            "text/plain": [
              "| 34           | 0.905209       | 0.857257            | 1h 28m       |"
            ]
          },
          "metadata": {},
          "output_type": "display_data"
        },
        {
          "data": {
            "text/html": [
              "<pre>| 35           | 0.906591       | 0.854969            | 1h 31m       |</pre>"
            ],
            "text/plain": [
              "| 35           | 0.906591       | 0.854969            | 1h 31m       |"
            ]
          },
          "metadata": {},
          "output_type": "display_data"
        },
        {
          "data": {
            "text/html": [
              "<pre>| 36           | 0.907569       | 0.857853            | 1h 34m       |</pre>"
            ],
            "text/plain": [
              "| 36           | 0.907569       | 0.857853            | 1h 34m       |"
            ]
          },
          "metadata": {},
          "output_type": "display_data"
        },
        {
          "data": {
            "text/html": [
              "<pre>| 37           | 0.909128       | 0.854173            | 1h 36m       |</pre>"
            ],
            "text/plain": [
              "| 37           | 0.909128       | 0.854173            | 1h 36m       |"
            ]
          },
          "metadata": {},
          "output_type": "display_data"
        },
        {
          "data": {
            "text/html": [
              "<pre>| 38           | 0.909465       | 0.855565            | 1h 39m       |</pre>"
            ],
            "text/plain": [
              "| 38           | 0.909465       | 0.855565            | 1h 39m       |"
            ]
          },
          "metadata": {},
          "output_type": "display_data"
        },
        {
          "data": {
            "text/html": [
              "<pre>| 39           | 0.911952       | 0.853079            | 1h 41m       |</pre>"
            ],
            "text/plain": [
              "| 39           | 0.911952       | 0.853079            | 1h 41m       |"
            ]
          },
          "metadata": {},
          "output_type": "display_data"
        },
        {
          "data": {
            "text/html": [
              "<pre>| 40           | 0.911779       | 0.853974            | 1h 44m       |</pre>"
            ],
            "text/plain": [
              "| 40           | 0.911779       | 0.853974            | 1h 44m       |"
            ]
          },
          "metadata": {},
          "output_type": "display_data"
        },
        {
          "data": {
            "text/html": [
              "<pre>| 41           | 0.912774       | 0.854272            | 1h 47m       |</pre>"
            ],
            "text/plain": [
              "| 41           | 0.912774       | 0.854272            | 1h 47m       |"
            ]
          },
          "metadata": {},
          "output_type": "display_data"
        },
        {
          "data": {
            "text/html": [
              "<pre>| 42           | 0.913738       | 0.855466            | 1h 49m       |</pre>"
            ],
            "text/plain": [
              "| 42           | 0.913738       | 0.855466            | 1h 49m       |"
            ]
          },
          "metadata": {},
          "output_type": "display_data"
        },
        {
          "data": {
            "text/html": [
              "<pre>| 43           | 0.914761       | 0.852979            | 1h 52m       |</pre>"
            ],
            "text/plain": [
              "| 43           | 0.914761       | 0.852979            | 1h 52m       |"
            ]
          },
          "metadata": {},
          "output_type": "display_data"
        },
        {
          "data": {
            "text/html": [
              "<pre>| 44           | 0.916098       | 0.854073            | 1h 54m       |</pre>"
            ],
            "text/plain": [
              "| 44           | 0.916098       | 0.854073            | 1h 54m       |"
            ]
          },
          "metadata": {},
          "output_type": "display_data"
        },
        {
          "data": {
            "text/html": [
              "<pre>| 45           | 0.91678        | 0.855764            | 1h 57m       |</pre>"
            ],
            "text/plain": [
              "| 45           | 0.91678        | 0.855764            | 1h 57m       |"
            ]
          },
          "metadata": {},
          "output_type": "display_data"
        },
        {
          "data": {
            "text/html": [
              "<pre>| 46           | 0.917603       | 0.85099             | 1h 59m       |</pre>"
            ],
            "text/plain": [
              "| 46           | 0.917603       | 0.85099             | 1h 59m       |"
            ]
          },
          "metadata": {},
          "output_type": "display_data"
        },
        {
          "data": {
            "text/html": [
              "<pre>| 47           | 0.918271       | 0.855367            | 2h 2m        |</pre>"
            ],
            "text/plain": [
              "| 47           | 0.918271       | 0.855367            | 2h 2m        |"
            ]
          },
          "metadata": {},
          "output_type": "display_data"
        },
        {
          "data": {
            "text/html": [
              "<pre>| 48           | 0.919417       | 0.8491              | 2h 4m        |</pre>"
            ],
            "text/plain": [
              "| 48           | 0.919417       | 0.8491              | 2h 4m        |"
            ]
          },
          "metadata": {},
          "output_type": "display_data"
        },
        {
          "data": {
            "text/html": [
              "<pre>| 49           | 0.919867       | 0.849896            | 2h 7m        |</pre>"
            ],
            "text/plain": [
              "| 49           | 0.919867       | 0.849896            | 2h 7m        |"
            ]
          },
          "metadata": {},
          "output_type": "display_data"
        },
        {
          "data": {
            "text/html": [
              "<pre>| 50           | 0.921167       | 0.848801            | 2h 10m       |</pre>"
            ],
            "text/plain": [
              "| 50           | 0.921167       | 0.848801            | 2h 10m       |"
            ]
          },
          "metadata": {},
          "output_type": "display_data"
        },
        {
          "data": {
            "text/html": [
              "<pre>+--------------+----------------+---------------------+--------------+</pre>"
            ],
            "text/plain": [
              "+--------------+----------------+---------------------+--------------+"
            ]
          },
          "metadata": {},
          "output_type": "display_data"
        }
      ],
      "source": [
        "# Train the drawing classifier\n",
        "bitmap_model = tc.drawing_classifier.create(bitmap_sframe, 'label', max_iterations=50)"
      ]
    },
    {
      "cell_type": "code",
      "execution_count": 10,
      "metadata": {
        "id": "KyTRQpupiyEt"
      },
      "outputs": [],
      "source": [
        " # Export it to CoreML format\n",
        " bitmap_model.export_coreml(output_model_filename + '.mlmodel')"
      ]
    }
  ],
  "metadata": {
    "accelerator": "GPU",
    "colab": {
      "collapsed_sections": [],
      "name": "Training-Drawn-Recognition-Model.ipynb",
      "provenance": []
    },
    "kernelspec": {
      "display_name": "Python 3",
      "name": "python3"
    },
    "language_info": {
      "name": "python"
    }
  },
  "nbformat": 4,
  "nbformat_minor": 0
}